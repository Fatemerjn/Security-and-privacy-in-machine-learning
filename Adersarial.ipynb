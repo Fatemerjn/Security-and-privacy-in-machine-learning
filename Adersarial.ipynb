{
 "cells": [
  {
   "cell_type": "markdown",
   "metadata": {},
   "source": [
    "In this notebook, you will explore adversarial attacks and training methods in deep learning. First, you will train a simple model, ResNet18, on the CIFAR-10 dataset. Next, you will learn about two different adversarial attacks: FGSM (Fast Gradient Sign Method), PGD (Projected Gradient Descent) and UAP (Universal adversarial perturbations). To enhance your understanding, you will implement the PGD and UAP attack from scratch, while the FGSM attack will be implemented using a library. After this, you will use the FGSM attack to generate adversarial examples and then perform adversarial training on the model using the CIFAR-10 dataset. Finally, you will compare the performance and robustness of the adversarially trained model with the original model. \n",
    "\n",
    "Good luck!"
   ]
  },
  {
   "cell_type": "code",
   "execution_count": 13,
   "metadata": {},
   "outputs": [],
   "source": [
    "Name = 'Fateme Raeijian'\n",
    "Student_ID = '402203389'"
   ]
  },
  {
   "cell_type": "markdown",
   "metadata": {},
   "source": [
    "## outline\n",
    "- Train Resnet on CIFAR10\n",
    "- FGSM Attack using torchattacks\n",
    "- PGD Attack from scratch\n",
    "- UAP Attack from scratch\n",
    "- Visualization\n",
    "- Adversarial Training\n"
   ]
  },
  {
   "cell_type": "markdown",
   "metadata": {},
   "source": [
    "Name: \n",
    "\n",
    "Student Number:"
   ]
  },
  {
   "cell_type": "code",
   "execution_count": 4,
   "metadata": {},
   "outputs": [
    {
     "name": "stdout",
     "output_type": "stream",
     "text": [
      "Collecting torch\n",
      "  Using cached torch-2.5.1-cp312-none-macosx_11_0_arm64.whl.metadata (28 kB)\n",
      "Collecting torchvision\n",
      "  Using cached torchvision-0.20.1-cp312-cp312-macosx_11_0_arm64.whl.metadata (6.1 kB)\n",
      "Collecting numpy\n",
      "  Using cached numpy-2.1.3-cp312-cp312-macosx_14_0_arm64.whl.metadata (62 kB)\n",
      "Collecting tqdm\n",
      "  Using cached tqdm-4.66.6-py3-none-any.whl.metadata (57 kB)\n",
      "Collecting filelock (from torch)\n",
      "  Using cached filelock-3.16.1-py3-none-any.whl.metadata (2.9 kB)\n",
      "Collecting typing-extensions>=4.8.0 (from torch)\n",
      "  Using cached typing_extensions-4.12.2-py3-none-any.whl.metadata (3.0 kB)\n",
      "Collecting networkx (from torch)\n",
      "  Using cached networkx-3.4.2-py3-none-any.whl.metadata (6.3 kB)\n",
      "Collecting jinja2 (from torch)\n",
      "  Using cached jinja2-3.1.4-py3-none-any.whl.metadata (2.6 kB)\n",
      "Collecting fsspec (from torch)\n",
      "  Using cached fsspec-2024.10.0-py3-none-any.whl.metadata (11 kB)\n",
      "Collecting setuptools (from torch)\n",
      "  Using cached setuptools-75.3.0-py3-none-any.whl.metadata (6.9 kB)\n",
      "Collecting sympy==1.13.1 (from torch)\n",
      "  Using cached sympy-1.13.1-py3-none-any.whl.metadata (12 kB)\n",
      "Collecting mpmath<1.4,>=1.1.0 (from sympy==1.13.1->torch)\n",
      "  Using cached mpmath-1.3.0-py3-none-any.whl.metadata (8.6 kB)\n",
      "Collecting pillow!=8.3.*,>=5.3.0 (from torchvision)\n",
      "  Using cached pillow-11.0.0-cp312-cp312-macosx_11_0_arm64.whl.metadata (9.1 kB)\n",
      "Collecting MarkupSafe>=2.0 (from jinja2->torch)\n",
      "  Using cached MarkupSafe-3.0.2-cp312-cp312-macosx_11_0_arm64.whl.metadata (4.0 kB)\n",
      "Using cached torch-2.5.1-cp312-none-macosx_11_0_arm64.whl (63.9 MB)\n",
      "Using cached sympy-1.13.1-py3-none-any.whl (6.2 MB)\n",
      "Using cached torchvision-0.20.1-cp312-cp312-macosx_11_0_arm64.whl (1.8 MB)\n",
      "Using cached numpy-2.1.3-cp312-cp312-macosx_14_0_arm64.whl (5.1 MB)\n",
      "Using cached tqdm-4.66.6-py3-none-any.whl (78 kB)\n",
      "Using cached pillow-11.0.0-cp312-cp312-macosx_11_0_arm64.whl (3.0 MB)\n",
      "Using cached typing_extensions-4.12.2-py3-none-any.whl (37 kB)\n",
      "Using cached filelock-3.16.1-py3-none-any.whl (16 kB)\n",
      "Using cached fsspec-2024.10.0-py3-none-any.whl (179 kB)\n",
      "Using cached jinja2-3.1.4-py3-none-any.whl (133 kB)\n",
      "Using cached networkx-3.4.2-py3-none-any.whl (1.7 MB)\n",
      "Using cached setuptools-75.3.0-py3-none-any.whl (1.3 MB)\n",
      "Using cached MarkupSafe-3.0.2-cp312-cp312-macosx_11_0_arm64.whl (12 kB)\n",
      "Using cached mpmath-1.3.0-py3-none-any.whl (536 kB)\n",
      "Installing collected packages: mpmath, typing-extensions, tqdm, sympy, setuptools, pillow, numpy, networkx, MarkupSafe, fsspec, filelock, jinja2, torch, torchvision\n",
      "Successfully installed MarkupSafe-3.0.2 filelock-3.16.1 fsspec-2024.10.0 jinja2-3.1.4 mpmath-1.3.0 networkx-3.4.2 numpy-2.1.3 pillow-11.0.0 setuptools-75.3.0 sympy-1.13.1 torch-2.5.1 torchvision-0.20.1 tqdm-4.66.6 typing-extensions-4.12.2\n"
     ]
    }
   ],
   "source": [
    "! pip install torch torchvision numpy tqdm"
   ]
  },
  {
   "cell_type": "code",
   "execution_count": 5,
   "metadata": {},
   "outputs": [],
   "source": [
    "import torch\n",
    "import torchvision\n",
    "import torchvision.transforms as transforms\n",
    "from torchvision.models import resnet18\n",
    "import torch.nn as nn\n",
    "import torch.nn.functional as F\n",
    "import torch.optim as optim\n",
    "import numpy as np\n",
    "from torch.autograd import Variable\n",
    "from tqdm import tqdm"
   ]
  },
  {
   "cell_type": "code",
   "execution_count": 7,
   "metadata": {},
   "outputs": [
    {
     "name": "stdout",
     "output_type": "stream",
     "text": [
      "cpu\n"
     ]
    }
   ],
   "source": [
    "device = 'cuda:0' if torch.cuda.is_available() else 'cpu'\n",
    "print(device)"
   ]
  },
  {
   "cell_type": "markdown",
   "metadata": {},
   "source": [
    "## Train Resnet on CIFAR10 (15 pts)"
   ]
  },
  {
   "cell_type": "code",
   "execution_count": 14,
   "metadata": {},
   "outputs": [
    {
     "name": "stdout",
     "output_type": "stream",
     "text": [
      "Files already downloaded and verified\n",
      "Files already downloaded and verified\n"
     ]
    }
   ],
   "source": [
    "# Define batch size and transformations\n",
    "batch_size = 128\n",
    "transform = transforms.Compose([transforms.ToTensor()])\n",
    "\n",
    "# Load CIFAR-10 training and test datasets\n",
    "trainset = torchvision.datasets.CIFAR10(root='./data', train=True, download=True, transform=transform)\n",
    "trainloader = torch.utils.data.DataLoader(trainset, batch_size=batch_size, shuffle=True)\n",
    "\n",
    "testset = torchvision.datasets.CIFAR10(root='./data', train=False, download=True, transform=transform)\n",
    "testloader = torch.utils.data.DataLoader(testset, batch_size=batch_size, shuffle=False)\n",
    "\n",
    "classes = ('plane', 'car', 'bird', 'cat', 'deer', 'dog', 'frog', 'horse', 'ship', 'truck')"
   ]
  },
  {
   "cell_type": "code",
   "execution_count": 15,
   "metadata": {},
   "outputs": [],
   "source": [
    "# Define a custom ResNet model\n",
    "class ResNet(nn.Module):\n",
    "    def __init__(self, num_cls):\n",
    "        super().__init__()\n",
    "        self.conv = nn.Sequential(*list(resnet18(weights=None).children())[:-2])\n",
    "        self.fc = nn.Linear(512, num_cls)\n",
    "\n",
    "    def forward(self, x):\n",
    "        x = self.conv(x)\n",
    "        x = torch.flatten(x, start_dim=1)\n",
    "        logits = self.fc(x)\n",
    "        return logits\n",
    "\n",
    "# Initialize the model and move to device\n",
    "model = ResNet(num_cls=10).to(device)"
   ]
  },
  {
   "cell_type": "code",
   "execution_count": 16,
   "metadata": {},
   "outputs": [],
   "source": [
    "learning_rate = 0.01\n",
    "criterion = nn.CrossEntropyLoss()\n",
    "optimizer = optim.SGD(model.parameters(), lr=learning_rate, momentum=0.9)\n",
    "epochs = 100"
   ]
  },
  {
   "cell_type": "code",
   "execution_count": 11,
   "metadata": {},
   "outputs": [
    {
     "name": "stdout",
     "output_type": "stream",
     "text": [
      "Epoch [1/100], Loss: 1.5492\n",
      "Epoch [2/100], Loss: 1.1506\n",
      "Epoch [3/100], Loss: 0.9444\n",
      "Epoch [4/100], Loss: 0.7912\n",
      "Epoch [5/100], Loss: 0.6787\n",
      "Epoch [6/100], Loss: 0.5680\n",
      "Epoch [7/100], Loss: 0.4709\n",
      "Epoch [8/100], Loss: 0.3847\n",
      "Epoch [9/100], Loss: 0.3194\n",
      "Epoch [10/100], Loss: 0.2589\n",
      "Epoch [11/100], Loss: 0.2159\n",
      "Epoch [12/100], Loss: 0.1702\n",
      "Epoch [13/100], Loss: 0.1463\n",
      "Epoch [14/100], Loss: 0.1304\n",
      "Epoch [15/100], Loss: 0.1064\n",
      "Epoch [16/100], Loss: 0.0973\n",
      "Epoch [17/100], Loss: 0.0816\n",
      "Epoch [18/100], Loss: 0.0675\n",
      "Epoch [19/100], Loss: 0.0533\n",
      "Epoch [20/100], Loss: 0.0582\n",
      "Epoch [21/100], Loss: 0.0504\n",
      "Epoch [22/100], Loss: 0.0476\n",
      "Epoch [23/100], Loss: 0.0461\n",
      "Epoch [24/100], Loss: 0.0345\n",
      "Epoch [25/100], Loss: 0.0378\n",
      "Epoch [26/100], Loss: 0.0319\n",
      "Epoch [27/100], Loss: 0.0256\n",
      "Epoch [28/100], Loss: 0.0226\n",
      "Epoch [29/100], Loss: 0.0158\n",
      "Epoch [30/100], Loss: 0.0223\n",
      "Epoch [31/100], Loss: 0.0285\n",
      "Epoch [32/100], Loss: 0.0255\n",
      "Epoch [33/100], Loss: 0.0258\n",
      "Epoch [34/100], Loss: 0.0252\n",
      "Epoch [35/100], Loss: 0.0181\n",
      "Epoch [36/100], Loss: 0.0240\n",
      "Epoch [37/100], Loss: 0.0184\n",
      "Epoch [38/100], Loss: 0.0106\n",
      "Epoch [39/100], Loss: 0.0099\n",
      "Epoch [40/100], Loss: 0.0065\n",
      "Epoch [41/100], Loss: 0.0085\n",
      "Epoch [42/100], Loss: 0.0081\n",
      "Epoch [43/100], Loss: 0.0127\n",
      "Epoch [44/100], Loss: 0.0113\n",
      "Epoch [45/100], Loss: 0.0154\n",
      "Epoch [46/100], Loss: 0.0161\n",
      "Epoch [47/100], Loss: 0.0113\n",
      "Epoch [48/100], Loss: 0.0081\n",
      "Epoch [49/100], Loss: 0.0062\n",
      "Epoch [50/100], Loss: 0.0049\n",
      "Epoch [51/100], Loss: 0.0068\n",
      "Epoch [52/100], Loss: 0.0118\n",
      "Epoch [53/100], Loss: 0.0094\n",
      "Epoch [54/100], Loss: 0.0102\n",
      "Epoch [55/100], Loss: 0.0094\n",
      "Epoch [56/100], Loss: 0.0093\n",
      "Epoch [57/100], Loss: 0.0107\n",
      "Epoch [58/100], Loss: 0.0110\n",
      "Epoch [59/100], Loss: 0.0125\n",
      "Epoch [60/100], Loss: 0.0058\n",
      "Epoch [61/100], Loss: 0.0042\n",
      "Epoch [62/100], Loss: 0.0028\n",
      "Epoch [63/100], Loss: 0.0021\n",
      "Epoch [64/100], Loss: 0.0014\n",
      "Epoch [65/100], Loss: 0.0008\n",
      "Epoch [66/100], Loss: 0.0007\n",
      "Epoch [67/100], Loss: 0.0004\n",
      "Epoch [68/100], Loss: 0.0003\n",
      "Epoch [69/100], Loss: 0.0003\n",
      "Epoch [70/100], Loss: 0.0002\n",
      "Epoch [71/100], Loss: 0.0001\n",
      "Epoch [72/100], Loss: 0.0001\n",
      "Epoch [73/100], Loss: 0.0001\n",
      "Epoch [74/100], Loss: 0.0001\n",
      "Epoch [75/100], Loss: 0.0001\n",
      "Epoch [76/100], Loss: 0.0004\n",
      "Epoch [77/100], Loss: 0.0001\n",
      "Epoch [78/100], Loss: 0.0001\n",
      "Epoch [79/100], Loss: 0.0001\n",
      "Epoch [80/100], Loss: 0.0001\n",
      "Epoch [81/100], Loss: 0.0001\n",
      "Epoch [82/100], Loss: 0.0001\n",
      "Epoch [83/100], Loss: 0.0001\n",
      "Epoch [84/100], Loss: 0.0005\n",
      "Epoch [85/100], Loss: 0.0001\n",
      "Epoch [86/100], Loss: 0.0002\n",
      "Epoch [87/100], Loss: 0.0001\n",
      "Epoch [88/100], Loss: 0.0001\n",
      "Epoch [89/100], Loss: 0.0001\n",
      "Epoch [90/100], Loss: 0.0000\n",
      "Epoch [91/100], Loss: 0.0000\n",
      "Epoch [92/100], Loss: 0.0000\n",
      "Epoch [93/100], Loss: 0.0000\n",
      "Epoch [94/100], Loss: 0.0000\n",
      "Epoch [95/100], Loss: 0.0000\n",
      "Epoch [96/100], Loss: 0.0001\n",
      "Epoch [97/100], Loss: 0.0000\n",
      "Epoch [98/100], Loss: 0.0000\n",
      "Epoch [99/100], Loss: 0.0000\n",
      "Epoch [100/100], Loss: 0.0000\n"
     ]
    }
   ],
   "source": [
    "##############################################################################\n",
    "# Implement train loop and log training loss after each epoch                #\n",
    "##############################################################################\n",
    "# Training the model\n",
    "for epoch in range(epochs):\n",
    "    running_loss = 0.0\n",
    "    for images, labels in trainloader:\n",
    "        images, labels = images.to(device), labels.to(device)\n",
    "\n",
    "        # Forward pass\n",
    "        outputs = model(images)\n",
    "        loss = criterion(outputs, labels)\n",
    "\n",
    "        # Backward pass and optimization\n",
    "        optimizer.zero_grad()\n",
    "        loss.backward()\n",
    "        optimizer.step()\n",
    "\n",
    "        running_loss += loss.item()\n",
    "    \n",
    "    # Log training loss\n",
    "    print(f\"Epoch [{epoch+1}/{epochs}], Loss: {running_loss/len(trainloader):.4f}\")\n",
    "################################ End #########################################"
   ]
  },
  {
   "cell_type": "code",
   "execution_count": 12,
   "metadata": {},
   "outputs": [
    {
     "name": "stdout",
     "output_type": "stream",
     "text": [
      "Test Accuracy of the model on the 10000 test images: 75.54%\n"
     ]
    }
   ],
   "source": [
    "##############################################################################\n",
    "# Evaluate the trained model on test set and print test accuracy             #\n",
    "##############################################################################\n",
    "# Evaluate model on test dataset\n",
    "model.eval()\n",
    "correct = 0\n",
    "total = 0\n",
    "with torch.no_grad():\n",
    "    for images, labels in testloader:\n",
    "        images, labels = images.to(device), labels.to(device)\n",
    "        outputs = model(images)\n",
    "        _, predicted = torch.max(outputs.data, 1)\n",
    "        total += labels.size(0)\n",
    "        correct += (predicted == labels).sum().item()\n",
    "\n",
    "print(f'Test Accuracy of the model on the 10000 test images: {100 * correct / total:.2f}%')################################ End #########################################"
   ]
  },
  {
   "cell_type": "code",
   "execution_count": 13,
   "metadata": {},
   "outputs": [
    {
     "name": "stdout",
     "output_type": "stream",
     "text": [
      "Model saved to resnet18_cifar10_model_pretrained.pth\n"
     ]
    }
   ],
   "source": [
    "# Save model checkpoint\n",
    "model_name = \"resnet18_cifar10_model_pretrained.pth\"\n",
    "model_PATH = f\"{model_name}\"\n",
    "torch.save(model.state_dict(), model_PATH)\n",
    "print(f\"Model saved to {model_PATH}\")"
   ]
  },
  {
   "cell_type": "markdown",
   "metadata": {},
   "source": [
    "## FGSM Attack using torchattacks (10 pts)"
   ]
  },
  {
   "cell_type": "markdown",
   "metadata": {},
   "source": [
    "In this section you should run FGSM attack using torchattacks library (https://adversarial-attacks-pytorch.readthedocs.io/en/latest/index.html).\n",
    "\n",
    "Run the attack for $\\epsilon \\in \\{\\frac{1}{255}, \\frac{4}{255}, \\frac{8}{255},\\}$ report the performance of the model on untargeted FGSM attack on the test data."
   ]
  },
  {
   "cell_type": "code",
   "execution_count": 14,
   "metadata": {},
   "outputs": [
    {
     "name": "stdout",
     "output_type": "stream",
     "text": [
      "Collecting torchattacks\n",
      "  Downloading torchattacks-3.5.1-py3-none-any.whl.metadata (927 bytes)\n",
      "Requirement already satisfied: torch>=1.7.1 in ./.venv/lib/python3.12/site-packages (from torchattacks) (2.5.1)\n",
      "Requirement already satisfied: torchvision>=0.8.2 in ./.venv/lib/python3.12/site-packages (from torchattacks) (0.20.1)\n",
      "Collecting scipy>=0.14.0 (from torchattacks)\n",
      "  Using cached scipy-1.14.1-cp312-cp312-macosx_14_0_arm64.whl.metadata (60 kB)\n",
      "Requirement already satisfied: tqdm>=4.56.1 in ./.venv/lib/python3.12/site-packages (from torchattacks) (4.66.6)\n",
      "Collecting requests~=2.25.1 (from torchattacks)\n",
      "  Downloading requests-2.25.1-py2.py3-none-any.whl.metadata (4.2 kB)\n",
      "Requirement already satisfied: numpy>=1.19.4 in ./.venv/lib/python3.12/site-packages (from torchattacks) (2.1.3)\n",
      "Collecting chardet<5,>=3.0.2 (from requests~=2.25.1->torchattacks)\n",
      "  Downloading chardet-4.0.0-py2.py3-none-any.whl.metadata (3.5 kB)\n",
      "Collecting idna<3,>=2.5 (from requests~=2.25.1->torchattacks)\n",
      "  Downloading idna-2.10-py2.py3-none-any.whl.metadata (9.1 kB)\n",
      "Collecting urllib3<1.27,>=1.21.1 (from requests~=2.25.1->torchattacks)\n",
      "  Downloading urllib3-1.26.20-py2.py3-none-any.whl.metadata (50 kB)\n",
      "Collecting certifi>=2017.4.17 (from requests~=2.25.1->torchattacks)\n",
      "  Using cached certifi-2024.8.30-py3-none-any.whl.metadata (2.2 kB)\n",
      "Requirement already satisfied: filelock in ./.venv/lib/python3.12/site-packages (from torch>=1.7.1->torchattacks) (3.16.1)\n",
      "Requirement already satisfied: typing-extensions>=4.8.0 in ./.venv/lib/python3.12/site-packages (from torch>=1.7.1->torchattacks) (4.12.2)\n",
      "Requirement already satisfied: networkx in ./.venv/lib/python3.12/site-packages (from torch>=1.7.1->torchattacks) (3.4.2)\n",
      "Requirement already satisfied: jinja2 in ./.venv/lib/python3.12/site-packages (from torch>=1.7.1->torchattacks) (3.1.4)\n",
      "Requirement already satisfied: fsspec in ./.venv/lib/python3.12/site-packages (from torch>=1.7.1->torchattacks) (2024.10.0)\n",
      "Requirement already satisfied: setuptools in ./.venv/lib/python3.12/site-packages (from torch>=1.7.1->torchattacks) (75.3.0)\n",
      "Requirement already satisfied: sympy==1.13.1 in ./.venv/lib/python3.12/site-packages (from torch>=1.7.1->torchattacks) (1.13.1)\n",
      "Requirement already satisfied: mpmath<1.4,>=1.1.0 in ./.venv/lib/python3.12/site-packages (from sympy==1.13.1->torch>=1.7.1->torchattacks) (1.3.0)\n",
      "Requirement already satisfied: pillow!=8.3.*,>=5.3.0 in ./.venv/lib/python3.12/site-packages (from torchvision>=0.8.2->torchattacks) (11.0.0)\n",
      "Requirement already satisfied: MarkupSafe>=2.0 in ./.venv/lib/python3.12/site-packages (from jinja2->torch>=1.7.1->torchattacks) (3.0.2)\n",
      "Downloading torchattacks-3.5.1-py3-none-any.whl (142 kB)\n",
      "Downloading requests-2.25.1-py2.py3-none-any.whl (61 kB)\n",
      "Using cached scipy-1.14.1-cp312-cp312-macosx_14_0_arm64.whl (23.1 MB)\n",
      "Using cached certifi-2024.8.30-py3-none-any.whl (167 kB)\n",
      "Downloading chardet-4.0.0-py2.py3-none-any.whl (178 kB)\n",
      "Downloading idna-2.10-py2.py3-none-any.whl (58 kB)\n",
      "Downloading urllib3-1.26.20-py2.py3-none-any.whl (144 kB)\n",
      "Installing collected packages: urllib3, scipy, idna, chardet, certifi, requests, torchattacks\n",
      "Successfully installed certifi-2024.8.30 chardet-4.0.0 idna-2.10 requests-2.25.1 scipy-1.14.1 torchattacks-3.5.1 urllib3-1.26.20\n"
     ]
    }
   ],
   "source": [
    "! pip install torchattacks"
   ]
  },
  {
   "cell_type": "code",
   "execution_count": 15,
   "metadata": {},
   "outputs": [
    {
     "name": "stdout",
     "output_type": "stream",
     "text": [
      "FGSM Attack with epsilon 0.00392156862745098: Test Accuracy = 54.66%\n",
      "FGSM Attack with epsilon 0.01568627450980392: Test Accuracy = 25.28%\n",
      "FGSM Attack with epsilon 0.03137254901960784: Test Accuracy = 12.10%\n"
     ]
    }
   ],
   "source": [
    "##############################################################################\n",
    "# run untargeted FGSM attack for epsilon = 1/255 and report its accuracy     #\n",
    "##############################################################################\n",
    "# FGSM Attack for different epsilon values using torchattacks library\n",
    "import torchattacks\n",
    "\n",
    "epsilon_values = [1/255, 4/255, 8/255]\n",
    "for epsilon in epsilon_values:\n",
    "    fgsm_attack = torchattacks.FGSM(model, eps=epsilon)\n",
    "    \n",
    "    correct = 0\n",
    "    total = 0\n",
    "    for images, labels in testloader:\n",
    "        images, labels = images.to(device), labels.to(device)\n",
    "        adv_images = fgsm_attack(images, labels)\n",
    "        outputs = model(adv_images)\n",
    "        _, predicted = torch.max(outputs.data, 1)\n",
    "        total += labels.size(0)\n",
    "        correct += (predicted == labels).sum().item()\n",
    "    \n",
    "    print(f\"FGSM Attack with epsilon {epsilon}: Test Accuracy = {100 * correct / total:.2f}%\")\n",
    "################################ End #########################################"
   ]
  },
  {
   "cell_type": "markdown",
   "metadata": {},
   "source": [
    "## PGD Attack from scratch (15 pts)"
   ]
  },
  {
   "cell_type": "markdown",
   "metadata": {},
   "source": [
    "In this section you should implement PGD attack from scratch."
   ]
  },
  {
   "cell_type": "code",
   "execution_count": 17,
   "metadata": {},
   "outputs": [],
   "source": [
    "# PGD Attack from scratch\n",
    "class LinfPGDAttack(object):\n",
    "    def __init__(self, model, epsilon=8/255, k=2, alpha=2/255):\n",
    "        self.model = model\n",
    "        self.epsilon = epsilon\n",
    "        self.steps = k\n",
    "        self.alpha = alpha\n",
    "\n",
    "    def __call__(self, image, label):\n",
    "        perturbed_image = image.clone().detach().to(device)\n",
    "        perturbed_image.requires_grad = True\n",
    "\n",
    "        for _ in range(self.steps):\n",
    "            outputs = self.model(perturbed_image)\n",
    "            loss = criterion(outputs, label)\n",
    "            loss.backward()\n",
    "            \n",
    "            # Update perturbed image with alpha step in the direction of the gradient\n",
    "            perturbed_image = perturbed_image + self.alpha * perturbed_image.grad.sign()\n",
    "            perturbed_image = torch.clamp(perturbed_image, image - self.epsilon, image + self.epsilon).detach_()\n",
    "            perturbed_image.requires_grad = True\n",
    "\n",
    "        return perturbed_image"
   ]
  },
  {
   "cell_type": "code",
   "execution_count": 18,
   "metadata": {},
   "outputs": [
    {
     "name": "stdout",
     "output_type": "stream",
     "text": [
      "Evaluating PGD attack with k=2\n",
      "PGD Attack with k=2: Test Accuracy = 17.92%\n",
      "Evaluating PGD attack with k=4\n",
      "PGD Attack with k=4: Test Accuracy = 3.10%\n",
      "Evaluating PGD attack with k=8\n",
      "PGD Attack with k=8: Test Accuracy = 0.82%\n"
     ]
    }
   ],
   "source": [
    "##############################################################################\n",
    "# Evaluate PGD attack on the trained model with k=2,4,8                      #\n",
    "##############################################################################\n",
    "\n",
    "k_list = [2, 4, 8]\n",
    "epsilon = 8/255  # Perturbation size\n",
    "alpha = 2/255    # Step size\n",
    "\n",
    "# Ensure the model is in evaluation mode\n",
    "model.eval()\n",
    "\n",
    "for k in k_list:\n",
    "    pgd_attack = LinfPGDAttack(model, epsilon=epsilon, k=k, alpha=alpha)\n",
    "    correct = 0\n",
    "    total = 0\n",
    "    print(f\"Evaluating PGD attack with k={k}\")\n",
    "    for images, labels in testloader:\n",
    "        images, labels = images.to(device), labels.to(device)\n",
    "        # Apply PGD attack\n",
    "        adv_images = pgd_attack(images, labels)\n",
    "        # Predict with adversarial images\n",
    "        outputs = model(adv_images)\n",
    "        _, predicted = torch.max(outputs.data, 1)\n",
    "        total += labels.size(0)\n",
    "        correct += (predicted == labels).sum().item()\n",
    "    accuracy = 100 * correct / total\n",
    "    print(f'PGD Attack with k={k}: Test Accuracy = {accuracy:.2f}%')"
   ]
  },
  {
   "cell_type": "markdown",
   "metadata": {},
   "source": [
    "## UAP Attack from scratch (15 pts)"
   ]
  },
  {
   "cell_type": "markdown",
   "metadata": {},
   "source": [
    "In this section you should implement UAP attack from scratch."
   ]
  },
  {
   "cell_type": "code",
   "execution_count": 18,
   "metadata": {},
   "outputs": [],
   "source": [
    "class UAPAttack(object):\n",
    "    def __init__(self, model, epsilon=8/255, delta=2/255, max_iters=10, data_loader=None):\n",
    "        \"\"\"\n",
    "        Initializes the UAPAttack.\n",
    "\n",
    "        Parameters:\n",
    "            model (nn.Module): The target model to attack.\n",
    "            epsilon (float): The maximum perturbation.\n",
    "            delta (float): The step size for each iteration.\n",
    "            max_iters (int): Number of iterations to perform.\n",
    "            data_loader (DataLoader): DataLoader for training data to generate UAP.\n",
    "        \"\"\"\n",
    "        self.model = model\n",
    "        self.epsilon = epsilon\n",
    "        self.delta = delta\n",
    "        self.max_iters = max_iters\n",
    "        self.data_loader = data_loader\n",
    "\n",
    "        # Initialize universal perturbation with requires_grad=True\n",
    "        self.uap = torch.zeros((1, 3, 32, 32)).to(device)\n",
    "        self.uap.requires_grad = True\n",
    "\n",
    "        # Optimizer to update the universal perturbation\n",
    "        self.optimizer = optim.Adam([self.uap], lr=self.delta)\n",
    "\n",
    "    def generate_uap(self):\n",
    "        \"\"\"\n",
    "        Generates the Universal Adversarial Perturbation (UAP).\n",
    "        \n",
    "        Returns:\n",
    "            torch.Tensor: The generated UAP.\n",
    "        \"\"\"\n",
    "        self.model.eval()  # Set model to evaluation mode\n",
    "\n",
    "        for itr in range(self.max_iters):\n",
    "            print(f\"UAP Generation Iteration {itr+1}/{self.max_iters}\")\n",
    "            for images, labels in tqdm(self.data_loader, desc=f\"Iteration {itr+1}\"):\n",
    "                images, labels = images.to(device), labels.to(device)\n",
    "\n",
    "                # Zero the gradients\n",
    "                self.optimizer.zero_grad()\n",
    "\n",
    "                # Apply current perturbation and clamp to [0,1]\n",
    "                perturbed_images = torch.clamp(images + self.uap, 0, 1)\n",
    "\n",
    "                # Forward pass\n",
    "                outputs = self.model(perturbed_images)\n",
    "                loss = nn.CrossEntropyLoss()(outputs, labels)\n",
    "\n",
    "                # Backward pass to compute gradients w.r.t uap\n",
    "                loss.backward()\n",
    "\n",
    "                # Update the perturbation\n",
    "                self.optimizer.step()\n",
    "\n",
    "                # Project the perturbation to the epsilon ball\n",
    "                with torch.no_grad():\n",
    "                    self.uap = torch.clamp(self.uap, -self.epsilon, self.epsilon)\n",
    "                    self.uap.requires_grad = True  # Re-enable gradient computation\n",
    "\n",
    "        return self.uap.detach()\n",
    "\n",
    "    def __call__(self, images):\n",
    "        \"\"\"\n",
    "        Applies the universal adversarial perturbation to the given images.\n",
    "\n",
    "        Parameters:\n",
    "            images (torch.Tensor): Batch of images to perturb.\n",
    "\n",
    "        Returns:\n",
    "            torch.Tensor: Perturbed images.\n",
    "        \"\"\"\n",
    "        return torch.clamp(images + self.uap, 0, 1)"
   ]
  },
  {
   "cell_type": "code",
   "execution_count": 20,
   "metadata": {},
   "outputs": [
    {
     "name": "stdout",
     "output_type": "stream",
     "text": [
      "Generating Universal Adversarial Perturbation (UAP)...\n",
      "Evaluating UAP attack on the test set...\n",
      "UAP Attack with max_iters=10: Test Accuracy = 75.54%\n"
     ]
    }
   ],
   "source": [
    "##############################################################################\n",
    "# Evaluate UAP attack on the trained model with max_iters = 10               #\n",
    "##############################################################################\n",
    "\n",
    "max_iters = 10\n",
    "epsilon = 8/255\n",
    "delta = 0.01  # Step size for perturbation update\n",
    "\n",
    "# Initialize the UAP attack\n",
    "uap_attack = UAPAttack(model, epsilon=epsilon, delta=delta, max_iters=max_iters, data_loader=trainloader)\n",
    "print(\"Generating Universal Adversarial Perturbation (UAP)...\")\n",
    "uap = uap_attack.generate_uap()\n",
    "\n",
    "# Evaluate the model on the test set with UAP applied\n",
    "correct = 0\n",
    "total = 0\n",
    "print(\"Evaluating UAP attack on the test set...\")\n",
    "for images, labels in testloader:\n",
    "    images, labels = images.to(device), labels.to(device)\n",
    "    # Apply UAP to the images\n",
    "    adv_images = uap_attack(images)\n",
    "    # Predict with adversarial images\n",
    "    outputs = model(adv_images)\n",
    "    _, predicted = torch.max(outputs.data, 1)\n",
    "    total += labels.size(0)\n",
    "    correct += (predicted == labels).sum().item()\n",
    "\n",
    "accuracy = 100 * correct / total\n",
    "print(f'UAP Attack with max_iters={max_iters}: Test Accuracy = {accuracy:.2f}%')"
   ]
  },
  {
   "cell_type": "markdown",
   "metadata": {},
   "source": [
    "## Visualization (10 pts)"
   ]
  },
  {
   "cell_type": "markdown",
   "metadata": {},
   "source": [
    "Implement a function to plot the original image, the perturbed imaged and their predicted labels by the model"
   ]
  },
  {
   "cell_type": "code",
   "execution_count": 23,
   "metadata": {},
   "outputs": [
    {
     "name": "stdout",
     "output_type": "stream",
     "text": [
      "\u001b[33mWARNING: Retrying (Retry(total=4, connect=None, read=None, redirect=None, status=None)) after connection broken by 'ReadTimeoutError(\"HTTPSConnectionPool(host='pypi.org', port=443): Read timed out. (read timeout=15)\")': /simple/matplotlib/\u001b[0m\u001b[33m\n",
      "\u001b[0mCollecting matplotlib\n",
      "  Using cached matplotlib-3.9.2-cp312-cp312-macosx_11_0_arm64.whl.metadata (11 kB)\n",
      "Collecting contourpy>=1.0.1 (from matplotlib)\n",
      "  Using cached contourpy-1.3.0-cp312-cp312-macosx_11_0_arm64.whl.metadata (5.4 kB)\n",
      "Collecting cycler>=0.10 (from matplotlib)\n",
      "  Using cached cycler-0.12.1-py3-none-any.whl.metadata (3.8 kB)\n",
      "Collecting fonttools>=4.22.0 (from matplotlib)\n",
      "  Using cached fonttools-4.54.1-cp312-cp312-macosx_11_0_arm64.whl.metadata (163 kB)\n",
      "Collecting kiwisolver>=1.3.1 (from matplotlib)\n",
      "  Using cached kiwisolver-1.4.7-cp312-cp312-macosx_11_0_arm64.whl.metadata (6.3 kB)\n",
      "Requirement already satisfied: numpy>=1.23 in ./.venv/lib/python3.12/site-packages (from matplotlib) (2.1.3)\n",
      "Requirement already satisfied: packaging>=20.0 in ./.venv/lib/python3.12/site-packages (from matplotlib) (24.1)\n",
      "Requirement already satisfied: pillow>=8 in ./.venv/lib/python3.12/site-packages (from matplotlib) (11.0.0)\n",
      "Collecting pyparsing>=2.3.1 (from matplotlib)\n",
      "  Using cached pyparsing-3.2.0-py3-none-any.whl.metadata (5.0 kB)\n",
      "Requirement already satisfied: python-dateutil>=2.7 in ./.venv/lib/python3.12/site-packages (from matplotlib) (2.9.0.post0)\n",
      "Requirement already satisfied: six>=1.5 in ./.venv/lib/python3.12/site-packages (from python-dateutil>=2.7->matplotlib) (1.16.0)\n",
      "Using cached matplotlib-3.9.2-cp312-cp312-macosx_11_0_arm64.whl (7.8 MB)\n",
      "Using cached contourpy-1.3.0-cp312-cp312-macosx_11_0_arm64.whl (251 kB)\n",
      "Using cached cycler-0.12.1-py3-none-any.whl (8.3 kB)\n",
      "Using cached fonttools-4.54.1-cp312-cp312-macosx_11_0_arm64.whl (2.3 MB)\n",
      "Using cached kiwisolver-1.4.7-cp312-cp312-macosx_11_0_arm64.whl (63 kB)\n",
      "Using cached pyparsing-3.2.0-py3-none-any.whl (106 kB)\n",
      "Installing collected packages: pyparsing, kiwisolver, fonttools, cycler, contourpy, matplotlib\n",
      "Successfully installed contourpy-1.3.0 cycler-0.12.1 fonttools-4.54.1 kiwisolver-1.4.7 matplotlib-3.9.2 pyparsing-3.2.0\n"
     ]
    }
   ],
   "source": [
    "! pip install matplotlib"
   ]
  },
  {
   "cell_type": "code",
   "execution_count": 24,
   "metadata": {},
   "outputs": [],
   "source": [
    "##############################################################################\n",
    "# Implement the function described                                           #\n",
    "##############################################################################\n",
    "\n",
    "import matplotlib.pyplot as plt\n",
    "import numpy as np\n",
    "\n",
    "def visualize_attack(original_images, perturbed_images, original_labels, perturbed_labels):\n",
    "    \"\"\"\n",
    "    Plots the original and perturbed images along with their predicted labels.\n",
    "    \n",
    "    Parameters:\n",
    "        original_images (Tensor): Batch of original images.\n",
    "        perturbed_images (Tensor): Batch of perturbed images.\n",
    "        original_labels (Tensor): Predicted labels for original images.\n",
    "        perturbed_labels (Tensor): Predicted labels for perturbed images.\n",
    "    \"\"\"\n",
    "    batch_size = original_images.size(0)\n",
    "    for i in range(batch_size):\n",
    "        orig_img = original_images[i].cpu().detach().numpy().transpose(1, 2, 0)\n",
    "        pert_img = perturbed_images[i].cpu().detach().numpy().transpose(1, 2, 0)\n",
    "        orig_label = classes[original_labels[i]]\n",
    "        pert_label = classes[perturbed_labels[i]]\n",
    "        \n",
    "        fig, axes = plt.subplots(1, 2, figsize=(8, 4))\n",
    "        axes[0].imshow(orig_img)\n",
    "        axes[0].set_title(f\"Original: {orig_label}\")\n",
    "        axes[0].axis('off')\n",
    "        \n",
    "        axes[1].imshow(pert_img)\n",
    "        axes[1].set_title(f\"Perturbed: {pert_label}\")\n",
    "        axes[1].axis('off')\n",
    "        \n",
    "        plt.tight_layout()\n",
    "        plt.show()"
   ]
  },
  {
   "cell_type": "code",
   "execution_count": 26,
   "metadata": {},
   "outputs": [
    {
     "data": {
      "image/png": "[encoded data removed]",
      "text/plain": [
       "<Figure size 800x400 with 2 Axes>"
      ]
     },
     "metadata": {},
     "output_type": "display_data"
    },
    {
     "data": {
      "image/png": "[encoded data removed]",
      "text/plain": [
       "<Figure size 800x400 with 2 Axes>"
      ]
     },
     "metadata": {},
     "output_type": "display_data"
    },
    {
     "data": {
      "image/png": "[encoded data removed]",
      "text/plain": [
       "<Figure size 800x400 with 2 Axes>"
      ]
     },
     "metadata": {},
     "output_type": "display_data"
    }
   ],
   "source": [
    "##############################################################################\n",
    "# Choose 3 random images from testset and run FGSM attack and visualize      #\n",
    "##############################################################################\n",
    "\n",
    "import random\n",
    "\n",
    "# Get a batch of test images\n",
    "dataiter = iter(testloader)\n",
    "images, labels = dataiter._next_data()\n",
    "images, labels = images.to(device), labels.to(device)\n",
    "\n",
    "# Select 3 random indices\n",
    "indices = random.sample(range(images.size(0)), 3)\n",
    "selected_images = images[indices]\n",
    "selected_labels = labels[indices]\n",
    "\n",
    "# Run FGSM attack\n",
    "epsilon = 8/255\n",
    "fgsm_attack = torchattacks.FGSM(model, eps=epsilon)\n",
    "adv_images = fgsm_attack(selected_images, selected_labels)\n",
    "\n",
    "# Get predictions\n",
    "model.eval()\n",
    "with torch.no_grad():\n",
    "    outputs_orig = model(selected_images)\n",
    "    outputs_adv = model(adv_images)\n",
    "    _, preds_orig = torch.max(outputs_orig, 1)\n",
    "    _, preds_adv = torch.max(outputs_adv, 1)\n",
    "\n",
    "# Visualize the results\n",
    "visualize_attack(selected_images, adv_images, preds_orig, preds_adv)"
   ]
  },
  {
   "cell_type": "code",
   "execution_count": 27,
   "metadata": {},
   "outputs": [
    {
     "name": "stderr",
     "output_type": "stream",
     "text": [
      "Clipping input data to the valid range for imshow with RGB data ([0..1] for floats or [0..255] for integers). Got range [0.0039215703..1.0313725].\n"
     ]
    },
    {
     "data": {
      "image/png": "[encoded data removed]",
      "text/plain": [
       "<Figure size 800x400 with 2 Axes>"
      ]
     },
     "metadata": {},
     "output_type": "display_data"
    },
    {
     "data": {
      "image/png": "[encoded data removed]",
      "text/plain": [
       "<Figure size 800x400 with 2 Axes>"
      ]
     },
     "metadata": {},
     "output_type": "display_data"
    },
    {
     "name": "stderr",
     "output_type": "stream",
     "text": [
      "Clipping input data to the valid range for imshow with RGB data ([0..1] for floats or [0..255] for integers). Got range [0.04705883..1.0117648].\n"
     ]
    },
    {
     "data": {
      "image/png": "[encoded data removed]",
      "text/plain": [
       "<Figure size 800x400 with 2 Axes>"
      ]
     },
     "metadata": {},
     "output_type": "display_data"
    }
   ],
   "source": [
    "##############################################################################\n",
    "# Choose 3 random images from testset and run PGD attack and visualize       #\n",
    "##############################################################################\n",
    "\n",
    "# Reusing the same selected_images and selected_labels from above\n",
    "\n",
    "# Run PGD attack\n",
    "k = 4\n",
    "pgd_attack = LinfPGDAttack(model, epsilon=8/255, k=k, alpha=2/255)\n",
    "adv_images = pgd_attack(selected_images, selected_labels)\n",
    "\n",
    "# Get predictions\n",
    "model.eval()\n",
    "with torch.no_grad():\n",
    "    outputs_orig = model(selected_images)\n",
    "    outputs_adv = model(adv_images)\n",
    "    _, preds_orig = torch.max(outputs_orig, 1)\n",
    "    _, preds_adv = torch.max(outputs_adv, 1)\n",
    "\n",
    "# Visualize the results\n",
    "visualize_attack(selected_images, adv_images, preds_orig, preds_adv)"
   ]
  },
  {
   "cell_type": "code",
   "execution_count": 28,
   "metadata": {},
   "outputs": [
    {
     "data": {
      "image/png": "[encoded data removed]",
      "text/plain": [
       "<Figure size 800x400 with 2 Axes>"
      ]
     },
     "metadata": {},
     "output_type": "display_data"
    },
    {
     "data": {
      "image/png": "[encoded data removed]",
      "text/plain": [
       "<Figure size 800x400 with 2 Axes>"
      ]
     },
     "metadata": {},
     "output_type": "display_data"
    },
    {
     "data": {
      "image/png": "[encoded data removed]",
      "text/plain": [
       "<Figure size 800x400 with 2 Axes>"
      ]
     },
     "metadata": {},
     "output_type": "display_data"
    }
   ],
   "source": [
    "##############################################################################\n",
    "# Choose 3 random images from testset and run UAP attack and visualize       #\n",
    "##############################################################################\n",
    "\n",
    "# Ensure that the UAP has been generated\n",
    "if not hasattr(uap_attack, 'uap'):\n",
    "    print(\"Generating UAP first...\")\n",
    "    uap_attack.generate_uap()\n",
    "\n",
    "# Apply UAP attack\n",
    "adv_images = uap_attack(selected_images)\n",
    "\n",
    "# Get predictions\n",
    "model.eval()\n",
    "with torch.no_grad():\n",
    "    outputs_orig = model(selected_images)\n",
    "    outputs_adv = model(adv_images)\n",
    "    _, preds_orig = torch.max(outputs_orig, 1)\n",
    "    _, preds_adv = torch.max(outputs_adv, 1)\n",
    "\n",
    "# Visualize the results\n",
    "visualize_attack(selected_images, adv_images, preds_orig, preds_adv)"
   ]
  },
  {
   "cell_type": "markdown",
   "metadata": {},
   "source": [
    "## Adversarial Training (35 pts)"
   ]
  },
  {
   "cell_type": "code",
   "execution_count": 19,
   "metadata": {},
   "outputs": [],
   "source": [
    "##############################################################################\n",
    "# Load a new resnet model for adversarial training                           #\n",
    "# Train the model on perturbed images from                                   #\n",
    "# untargeted FGSM attack with epsilon = 8/255 on train dataset               #\n",
    "# Also use the following setup for training the model                        #\n",
    "##############################################################################\n",
    "\n",
    "# Define a custom ResNet model (same architecture as before)\n",
    "class ResNetAdv(nn.Module):\n",
    "    def __init__(self, num_cls):\n",
    "        super().__init__()\n",
    "        self.conv = nn.Sequential(*list(resnet18(weights=None).children())[:-2])\n",
    "        self.fc = nn.Linear(512, num_cls)\n",
    "\n",
    "    def forward(self, x):\n",
    "        x = self.conv(x)\n",
    "        x = torch.flatten(x, start_dim=1)\n",
    "        logits = self.fc(x)\n",
    "        return logits\n",
    "\n",
    "# Initialize the adversarial model and move to device\n",
    "adv_model = ResNetAdv(num_cls=10).to(device)\n",
    "\n",
    "# Training setup\n",
    "learning_rate = 0.01\n",
    "criterion = nn.CrossEntropyLoss()\n",
    "optimizer = optim.SGD(adv_model.parameters(), lr=learning_rate, momentum=0.9)\n",
    "epochs = 100"
   ]
  },
  {
   "cell_type": "code",
   "execution_count": 20,
   "metadata": {},
   "outputs": [
    {
     "name": "stderr",
     "output_type": "stream",
     "text": [
      "Epoch 1/100: 100%|██████████| 391/391 [07:10<00:00,  1.10s/it]\n"
     ]
    },
    {
     "name": "stdout",
     "output_type": "stream",
     "text": [
      "Epoch [1/100], Loss: 2.1218\n"
     ]
    },
    {
     "name": "stderr",
     "output_type": "stream",
     "text": [
      "Epoch 2/100: 100%|██████████| 391/391 [07:09<00:00,  1.10s/it]\n"
     ]
    },
    {
     "name": "stdout",
     "output_type": "stream",
     "text": [
      "Epoch [2/100], Loss: 1.9862\n"
     ]
    },
    {
     "name": "stderr",
     "output_type": "stream",
     "text": [
      "Epoch 3/100: 100%|██████████| 391/391 [07:09<00:00,  1.10s/it]\n"
     ]
    },
    {
     "name": "stdout",
     "output_type": "stream",
     "text": [
      "Epoch [3/100], Loss: 1.9288\n"
     ]
    },
    {
     "name": "stderr",
     "output_type": "stream",
     "text": [
      "Epoch 4/100: 100%|██████████| 391/391 [09:02<00:00,  1.39s/it]\n"
     ]
    },
    {
     "name": "stdout",
     "output_type": "stream",
     "text": [
      "Epoch [4/100], Loss: 1.8828\n"
     ]
    },
    {
     "name": "stderr",
     "output_type": "stream",
     "text": [
      "Epoch 5/100: 100%|██████████| 391/391 [09:01<00:00,  1.39s/it]\n"
     ]
    },
    {
     "name": "stdout",
     "output_type": "stream",
     "text": [
      "Epoch [5/100], Loss: 1.8398\n"
     ]
    },
    {
     "name": "stderr",
     "output_type": "stream",
     "text": [
      "Epoch 6/100: 100%|██████████| 391/391 [09:03<00:00,  1.39s/it]\n"
     ]
    },
    {
     "name": "stdout",
     "output_type": "stream",
     "text": [
      "Epoch [6/100], Loss: 1.8090\n"
     ]
    },
    {
     "name": "stderr",
     "output_type": "stream",
     "text": [
      "Epoch 7/100: 100%|██████████| 391/391 [09:04<00:00,  1.39s/it]\n"
     ]
    },
    {
     "name": "stdout",
     "output_type": "stream",
     "text": [
      "Epoch [7/100], Loss: 1.7760\n"
     ]
    },
    {
     "name": "stderr",
     "output_type": "stream",
     "text": [
      "Epoch 8/100: 100%|██████████| 391/391 [09:02<00:00,  1.39s/it]\n"
     ]
    },
    {
     "name": "stdout",
     "output_type": "stream",
     "text": [
      "Epoch [8/100], Loss: 1.7415\n"
     ]
    },
    {
     "name": "stderr",
     "output_type": "stream",
     "text": [
      "Epoch 9/100: 100%|██████████| 391/391 [09:02<00:00,  1.39s/it]\n"
     ]
    },
    {
     "name": "stdout",
     "output_type": "stream",
     "text": [
      "Epoch [9/100], Loss: 1.7087\n"
     ]
    },
    {
     "name": "stderr",
     "output_type": "stream",
     "text": [
      "Epoch 10/100: 100%|██████████| 391/391 [09:03<00:00,  1.39s/it]\n"
     ]
    },
    {
     "name": "stdout",
     "output_type": "stream",
     "text": [
      "Epoch [10/100], Loss: 1.6771\n",
      "Test Accuracy after Epoch 10: 53.26%\n"
     ]
    },
    {
     "name": "stderr",
     "output_type": "stream",
     "text": [
      "Epoch 11/100: 100%|██████████| 391/391 [09:03<00:00,  1.39s/it]\n"
     ]
    },
    {
     "name": "stdout",
     "output_type": "stream",
     "text": [
      "Epoch [11/100], Loss: 1.6424\n"
     ]
    },
    {
     "name": "stderr",
     "output_type": "stream",
     "text": [
      "Epoch 12/100: 100%|██████████| 391/391 [08:28<00:00,  1.30s/it]\n"
     ]
    },
    {
     "name": "stdout",
     "output_type": "stream",
     "text": [
      "Epoch [12/100], Loss: 1.6113\n"
     ]
    },
    {
     "name": "stderr",
     "output_type": "stream",
     "text": [
      "Epoch 13/100: 100%|██████████| 391/391 [07:08<00:00,  1.10s/it]\n"
     ]
    },
    {
     "name": "stdout",
     "output_type": "stream",
     "text": [
      "Epoch [13/100], Loss: 1.5760\n"
     ]
    },
    {
     "name": "stderr",
     "output_type": "stream",
     "text": [
      "Epoch 14/100: 100%|██████████| 391/391 [07:08<00:00,  1.10s/it]\n"
     ]
    },
    {
     "name": "stdout",
     "output_type": "stream",
     "text": [
      "Epoch [14/100], Loss: 1.5339\n"
     ]
    },
    {
     "name": "stderr",
     "output_type": "stream",
     "text": [
      "Epoch 15/100: 100%|██████████| 391/391 [07:09<00:00,  1.10s/it]\n"
     ]
    },
    {
     "name": "stdout",
     "output_type": "stream",
     "text": [
      "Epoch [15/100], Loss: 1.4960\n"
     ]
    },
    {
     "name": "stderr",
     "output_type": "stream",
     "text": [
      "Epoch 16/100: 100%|██████████| 391/391 [07:36<00:00,  1.17s/it]\n"
     ]
    },
    {
     "name": "stdout",
     "output_type": "stream",
     "text": [
      "Epoch [16/100], Loss: 1.4585\n"
     ]
    },
    {
     "name": "stderr",
     "output_type": "stream",
     "text": [
      "Epoch 17/100: 100%|██████████| 391/391 [1:09:53<00:00, 10.72s/it] \n"
     ]
    },
    {
     "name": "stdout",
     "output_type": "stream",
     "text": [
      "Epoch [17/100], Loss: 1.4199\n"
     ]
    },
    {
     "name": "stderr",
     "output_type": "stream",
     "text": [
      "Epoch 18/100: 100%|██████████| 391/391 [09:04<00:00,  1.39s/it]\n"
     ]
    },
    {
     "name": "stdout",
     "output_type": "stream",
     "text": [
      "Epoch [18/100], Loss: 1.3781\n"
     ]
    },
    {
     "name": "stderr",
     "output_type": "stream",
     "text": [
      "Epoch 19/100: 100%|██████████| 391/391 [09:04<00:00,  1.39s/it]\n"
     ]
    },
    {
     "name": "stdout",
     "output_type": "stream",
     "text": [
      "Epoch [19/100], Loss: 1.3402\n"
     ]
    },
    {
     "name": "stderr",
     "output_type": "stream",
     "text": [
      "Epoch 20/100: 100%|██████████| 391/391 [09:05<00:00,  1.39s/it]\n"
     ]
    },
    {
     "name": "stdout",
     "output_type": "stream",
     "text": [
      "Epoch [20/100], Loss: 1.2934\n",
      "Test Accuracy after Epoch 20: 57.08%\n"
     ]
    },
    {
     "name": "stderr",
     "output_type": "stream",
     "text": [
      "Epoch 21/100: 100%|██████████| 391/391 [09:04<00:00,  1.39s/it]\n"
     ]
    },
    {
     "name": "stdout",
     "output_type": "stream",
     "text": [
      "Epoch [21/100], Loss: 1.2570\n"
     ]
    },
    {
     "name": "stderr",
     "output_type": "stream",
     "text": [
      "Epoch 22/100: 100%|██████████| 391/391 [09:02<00:00,  1.39s/it]\n"
     ]
    },
    {
     "name": "stdout",
     "output_type": "stream",
     "text": [
      "Epoch [22/100], Loss: 1.2185\n"
     ]
    },
    {
     "name": "stderr",
     "output_type": "stream",
     "text": [
      "Epoch 23/100: 100%|██████████| 391/391 [09:01<00:00,  1.38s/it]\n"
     ]
    },
    {
     "name": "stdout",
     "output_type": "stream",
     "text": [
      "Epoch [23/100], Loss: 1.1833\n"
     ]
    },
    {
     "name": "stderr",
     "output_type": "stream",
     "text": [
      "Epoch 24/100: 100%|██████████| 391/391 [09:05<00:00,  1.39s/it]\n"
     ]
    },
    {
     "name": "stdout",
     "output_type": "stream",
     "text": [
      "Epoch [24/100], Loss: 1.1484\n"
     ]
    },
    {
     "name": "stderr",
     "output_type": "stream",
     "text": [
      "Epoch 25/100: 100%|██████████| 391/391 [08:59<00:00,  1.38s/it]\n"
     ]
    },
    {
     "name": "stdout",
     "output_type": "stream",
     "text": [
      "Epoch [25/100], Loss: 1.1022\n"
     ]
    },
    {
     "name": "stderr",
     "output_type": "stream",
     "text": [
      "Epoch 26/100: 100%|██████████| 391/391 [09:02<00:00,  1.39s/it]\n"
     ]
    },
    {
     "name": "stdout",
     "output_type": "stream",
     "text": [
      "Epoch [26/100], Loss: 1.0723\n"
     ]
    },
    {
     "name": "stderr",
     "output_type": "stream",
     "text": [
      "Epoch 27/100: 100%|██████████| 391/391 [09:03<00:00,  1.39s/it]\n"
     ]
    },
    {
     "name": "stdout",
     "output_type": "stream",
     "text": [
      "Epoch [27/100], Loss: 1.0395\n"
     ]
    },
    {
     "name": "stderr",
     "output_type": "stream",
     "text": [
      "Epoch 28/100: 100%|██████████| 391/391 [09:05<00:00,  1.40s/it]\n"
     ]
    },
    {
     "name": "stdout",
     "output_type": "stream",
     "text": [
      "Epoch [28/100], Loss: 0.9992\n"
     ]
    },
    {
     "name": "stderr",
     "output_type": "stream",
     "text": [
      "Epoch 29/100: 100%|██████████| 391/391 [09:06<00:00,  1.40s/it]\n"
     ]
    },
    {
     "name": "stdout",
     "output_type": "stream",
     "text": [
      "Epoch [29/100], Loss: 0.9690\n"
     ]
    },
    {
     "name": "stderr",
     "output_type": "stream",
     "text": [
      "Epoch 30/100: 100%|██████████| 391/391 [09:06<00:00,  1.40s/it]\n"
     ]
    },
    {
     "name": "stdout",
     "output_type": "stream",
     "text": [
      "Epoch [30/100], Loss: 0.9382\n",
      "Test Accuracy after Epoch 30: 59.32%\n"
     ]
    },
    {
     "name": "stderr",
     "output_type": "stream",
     "text": [
      "Epoch 31/100: 100%|██████████| 391/391 [09:06<00:00,  1.40s/it]\n"
     ]
    },
    {
     "name": "stdout",
     "output_type": "stream",
     "text": [
      "Epoch [31/100], Loss: 0.9080\n"
     ]
    },
    {
     "name": "stderr",
     "output_type": "stream",
     "text": [
      "Epoch 32/100: 100%|██████████| 391/391 [09:06<00:00,  1.40s/it]\n"
     ]
    },
    {
     "name": "stdout",
     "output_type": "stream",
     "text": [
      "Epoch [32/100], Loss: 0.8796\n"
     ]
    },
    {
     "name": "stderr",
     "output_type": "stream",
     "text": [
      "Epoch 33/100: 100%|██████████| 391/391 [09:05<00:00,  1.39s/it]\n"
     ]
    },
    {
     "name": "stdout",
     "output_type": "stream",
     "text": [
      "Epoch [33/100], Loss: 0.8556\n"
     ]
    },
    {
     "name": "stderr",
     "output_type": "stream",
     "text": [
      "Epoch 34/100: 100%|██████████| 391/391 [07:11<00:00,  1.10s/it]\n"
     ]
    },
    {
     "name": "stdout",
     "output_type": "stream",
     "text": [
      "Epoch [34/100], Loss: 0.8315\n"
     ]
    },
    {
     "name": "stderr",
     "output_type": "stream",
     "text": [
      "Epoch 35/100: 100%|██████████| 391/391 [07:10<00:00,  1.10s/it]\n"
     ]
    },
    {
     "name": "stdout",
     "output_type": "stream",
     "text": [
      "Epoch [35/100], Loss: 0.8005\n"
     ]
    },
    {
     "name": "stderr",
     "output_type": "stream",
     "text": [
      "Epoch 36/100: 100%|██████████| 391/391 [07:09<00:00,  1.10s/it]\n"
     ]
    },
    {
     "name": "stdout",
     "output_type": "stream",
     "text": [
      "Epoch [36/100], Loss: 0.7768\n"
     ]
    },
    {
     "name": "stderr",
     "output_type": "stream",
     "text": [
      "Epoch 37/100: 100%|██████████| 391/391 [07:10<00:00,  1.10s/it]\n"
     ]
    },
    {
     "name": "stdout",
     "output_type": "stream",
     "text": [
      "Epoch [37/100], Loss: 0.7502\n"
     ]
    },
    {
     "name": "stderr",
     "output_type": "stream",
     "text": [
      "Epoch 38/100: 100%|██████████| 391/391 [07:10<00:00,  1.10s/it]\n"
     ]
    },
    {
     "name": "stdout",
     "output_type": "stream",
     "text": [
      "Epoch [38/100], Loss: 0.7368\n"
     ]
    },
    {
     "name": "stderr",
     "output_type": "stream",
     "text": [
      "Epoch 39/100: 100%|██████████| 391/391 [07:10<00:00,  1.10s/it]\n"
     ]
    },
    {
     "name": "stdout",
     "output_type": "stream",
     "text": [
      "Epoch [39/100], Loss: 0.7061\n"
     ]
    },
    {
     "name": "stderr",
     "output_type": "stream",
     "text": [
      "Epoch 40/100: 100%|██████████| 391/391 [07:09<00:00,  1.10s/it]\n"
     ]
    },
    {
     "name": "stdout",
     "output_type": "stream",
     "text": [
      "Epoch [40/100], Loss: 0.6802\n",
      "Test Accuracy after Epoch 40: 59.15%\n"
     ]
    },
    {
     "name": "stderr",
     "output_type": "stream",
     "text": [
      "Epoch 41/100: 100%|██████████| 391/391 [07:09<00:00,  1.10s/it]\n"
     ]
    },
    {
     "name": "stdout",
     "output_type": "stream",
     "text": [
      "Epoch [41/100], Loss: 0.6598\n"
     ]
    },
    {
     "name": "stderr",
     "output_type": "stream",
     "text": [
      "Epoch 42/100: 100%|██████████| 391/391 [07:44<00:00,  1.19s/it]\n"
     ]
    },
    {
     "name": "stdout",
     "output_type": "stream",
     "text": [
      "Epoch [42/100], Loss: 0.6548\n"
     ]
    },
    {
     "name": "stderr",
     "output_type": "stream",
     "text": [
      "Epoch 43/100: 100%|██████████| 391/391 [07:27<00:00,  1.15s/it]\n"
     ]
    },
    {
     "name": "stdout",
     "output_type": "stream",
     "text": [
      "Epoch [43/100], Loss: 0.6215\n"
     ]
    },
    {
     "name": "stderr",
     "output_type": "stream",
     "text": [
      "Epoch 44/100: 100%|██████████| 391/391 [07:09<00:00,  1.10s/it]\n"
     ]
    },
    {
     "name": "stdout",
     "output_type": "stream",
     "text": [
      "Epoch [44/100], Loss: 0.6027\n"
     ]
    },
    {
     "name": "stderr",
     "output_type": "stream",
     "text": [
      "Epoch 45/100: 100%|██████████| 391/391 [07:09<00:00,  1.10s/it]\n"
     ]
    },
    {
     "name": "stdout",
     "output_type": "stream",
     "text": [
      "Epoch [45/100], Loss: 0.5742\n"
     ]
    },
    {
     "name": "stderr",
     "output_type": "stream",
     "text": [
      "Epoch 46/100: 100%|██████████| 391/391 [1:16:12<00:00, 11.69s/it]   \n"
     ]
    },
    {
     "name": "stdout",
     "output_type": "stream",
     "text": [
      "Epoch [46/100], Loss: 0.5777\n"
     ]
    },
    {
     "name": "stderr",
     "output_type": "stream",
     "text": [
      "Epoch 47/100: 100%|██████████| 391/391 [07:11<00:00,  1.10s/it]\n"
     ]
    },
    {
     "name": "stdout",
     "output_type": "stream",
     "text": [
      "Epoch [47/100], Loss: 0.5473\n"
     ]
    },
    {
     "name": "stderr",
     "output_type": "stream",
     "text": [
      "Epoch 48/100: 100%|██████████| 391/391 [07:10<00:00,  1.10s/it]\n"
     ]
    },
    {
     "name": "stdout",
     "output_type": "stream",
     "text": [
      "Epoch [48/100], Loss: 0.5393\n"
     ]
    },
    {
     "name": "stderr",
     "output_type": "stream",
     "text": [
      "Epoch 49/100: 100%|██████████| 391/391 [07:10<00:00,  1.10s/it]\n"
     ]
    },
    {
     "name": "stdout",
     "output_type": "stream",
     "text": [
      "Epoch [49/100], Loss: 0.5187\n"
     ]
    },
    {
     "name": "stderr",
     "output_type": "stream",
     "text": [
      "Epoch 50/100: 100%|██████████| 391/391 [07:10<00:00,  1.10s/it]\n"
     ]
    },
    {
     "name": "stdout",
     "output_type": "stream",
     "text": [
      "Epoch [50/100], Loss: 0.5036\n",
      "Test Accuracy after Epoch 50: 60.19%\n"
     ]
    },
    {
     "name": "stderr",
     "output_type": "stream",
     "text": [
      "Epoch 51/100: 100%|██████████| 391/391 [07:10<00:00,  1.10s/it]\n"
     ]
    },
    {
     "name": "stdout",
     "output_type": "stream",
     "text": [
      "Epoch [51/100], Loss: 0.4927\n"
     ]
    },
    {
     "name": "stderr",
     "output_type": "stream",
     "text": [
      "Epoch 52/100: 100%|██████████| 391/391 [07:10<00:00,  1.10s/it]\n"
     ]
    },
    {
     "name": "stdout",
     "output_type": "stream",
     "text": [
      "Epoch [52/100], Loss: 0.4811\n"
     ]
    },
    {
     "name": "stderr",
     "output_type": "stream",
     "text": [
      "Epoch 53/100: 100%|██████████| 391/391 [07:10<00:00,  1.10s/it]\n"
     ]
    },
    {
     "name": "stdout",
     "output_type": "stream",
     "text": [
      "Epoch [53/100], Loss: 0.4658\n"
     ]
    },
    {
     "name": "stderr",
     "output_type": "stream",
     "text": [
      "Epoch 54/100: 100%|██████████| 391/391 [07:10<00:00,  1.10s/it]\n"
     ]
    },
    {
     "name": "stdout",
     "output_type": "stream",
     "text": [
      "Epoch [54/100], Loss: 0.4494\n"
     ]
    },
    {
     "name": "stderr",
     "output_type": "stream",
     "text": [
      "Epoch 55/100: 100%|██████████| 391/391 [07:10<00:00,  1.10s/it]\n"
     ]
    },
    {
     "name": "stdout",
     "output_type": "stream",
     "text": [
      "Epoch [55/100], Loss: 0.4449\n"
     ]
    },
    {
     "name": "stderr",
     "output_type": "stream",
     "text": [
      "Epoch 56/100: 100%|██████████| 391/391 [07:11<00:00,  1.10s/it]\n"
     ]
    },
    {
     "name": "stdout",
     "output_type": "stream",
     "text": [
      "Epoch [56/100], Loss: 0.4314\n"
     ]
    },
    {
     "name": "stderr",
     "output_type": "stream",
     "text": [
      "Epoch 57/100: 100%|██████████| 391/391 [07:09<00:00,  1.10s/it]\n"
     ]
    },
    {
     "name": "stdout",
     "output_type": "stream",
     "text": [
      "Epoch [57/100], Loss: 0.4088\n"
     ]
    },
    {
     "name": "stderr",
     "output_type": "stream",
     "text": [
      "Epoch 58/100: 100%|██████████| 391/391 [07:09<00:00,  1.10s/it]\n"
     ]
    },
    {
     "name": "stdout",
     "output_type": "stream",
     "text": [
      "Epoch [58/100], Loss: 0.4080\n"
     ]
    },
    {
     "name": "stderr",
     "output_type": "stream",
     "text": [
      "Epoch 59/100: 100%|██████████| 391/391 [07:17<00:00,  1.12s/it]\n"
     ]
    },
    {
     "name": "stdout",
     "output_type": "stream",
     "text": [
      "Epoch [59/100], Loss: 0.4063\n"
     ]
    },
    {
     "name": "stderr",
     "output_type": "stream",
     "text": [
      "Epoch 60/100: 100%|██████████| 391/391 [07:12<00:00,  1.11s/it]\n"
     ]
    },
    {
     "name": "stdout",
     "output_type": "stream",
     "text": [
      "Epoch [60/100], Loss: 0.3885\n",
      "Test Accuracy after Epoch 60: 60.13%\n"
     ]
    },
    {
     "name": "stderr",
     "output_type": "stream",
     "text": [
      "Epoch 61/100: 100%|██████████| 391/391 [07:17<00:00,  1.12s/it]\n"
     ]
    },
    {
     "name": "stdout",
     "output_type": "stream",
     "text": [
      "Epoch [61/100], Loss: 0.3567\n"
     ]
    },
    {
     "name": "stderr",
     "output_type": "stream",
     "text": [
      "Epoch 62/100: 100%|██████████| 391/391 [08:11<00:00,  1.26s/it]\n"
     ]
    },
    {
     "name": "stdout",
     "output_type": "stream",
     "text": [
      "Epoch [62/100], Loss: 0.3520\n"
     ]
    },
    {
     "name": "stderr",
     "output_type": "stream",
     "text": [
      "Epoch 63/100: 100%|██████████| 391/391 [08:09<00:00,  1.25s/it]\n"
     ]
    },
    {
     "name": "stdout",
     "output_type": "stream",
     "text": [
      "Epoch [63/100], Loss: 0.3600\n"
     ]
    },
    {
     "name": "stderr",
     "output_type": "stream",
     "text": [
      "Epoch 64/100: 100%|██████████| 391/391 [07:29<00:00,  1.15s/it]\n"
     ]
    },
    {
     "name": "stdout",
     "output_type": "stream",
     "text": [
      "Epoch [64/100], Loss: 0.3511\n"
     ]
    },
    {
     "name": "stderr",
     "output_type": "stream",
     "text": [
      "Epoch 65/100: 100%|██████████| 391/391 [08:47<00:00,  1.35s/it]\n"
     ]
    },
    {
     "name": "stdout",
     "output_type": "stream",
     "text": [
      "Epoch [65/100], Loss: 0.3392\n"
     ]
    },
    {
     "name": "stderr",
     "output_type": "stream",
     "text": [
      "Epoch 66/100: 100%|██████████| 391/391 [08:14<00:00,  1.26s/it]\n"
     ]
    },
    {
     "name": "stdout",
     "output_type": "stream",
     "text": [
      "Epoch [66/100], Loss: 0.3368\n"
     ]
    },
    {
     "name": "stderr",
     "output_type": "stream",
     "text": [
      "Epoch 67/100: 100%|██████████| 391/391 [07:41<00:00,  1.18s/it]\n"
     ]
    },
    {
     "name": "stdout",
     "output_type": "stream",
     "text": [
      "Epoch [67/100], Loss: 0.3307\n"
     ]
    },
    {
     "name": "stderr",
     "output_type": "stream",
     "text": [
      "Epoch 68/100: 100%|██████████| 391/391 [08:11<00:00,  1.26s/it]\n"
     ]
    },
    {
     "name": "stdout",
     "output_type": "stream",
     "text": [
      "Epoch [68/100], Loss: 0.3100\n"
     ]
    },
    {
     "name": "stderr",
     "output_type": "stream",
     "text": [
      "Epoch 69/100: 100%|██████████| 391/391 [08:41<00:00,  1.33s/it]\n"
     ]
    },
    {
     "name": "stdout",
     "output_type": "stream",
     "text": [
      "Epoch [69/100], Loss: 0.3111\n"
     ]
    },
    {
     "name": "stderr",
     "output_type": "stream",
     "text": [
      "Epoch 70/100: 100%|██████████| 391/391 [08:15<00:00,  1.27s/it]\n"
     ]
    },
    {
     "name": "stdout",
     "output_type": "stream",
     "text": [
      "Epoch [70/100], Loss: 0.2957\n",
      "Test Accuracy after Epoch 70: 60.38%\n"
     ]
    },
    {
     "name": "stderr",
     "output_type": "stream",
     "text": [
      "Epoch 71/100: 100%|██████████| 391/391 [08:42<00:00,  1.34s/it]\n"
     ]
    },
    {
     "name": "stdout",
     "output_type": "stream",
     "text": [
      "Epoch [71/100], Loss: 0.2866\n"
     ]
    },
    {
     "name": "stderr",
     "output_type": "stream",
     "text": [
      "Epoch 72/100: 100%|██████████| 391/391 [07:52<00:00,  1.21s/it]\n"
     ]
    },
    {
     "name": "stdout",
     "output_type": "stream",
     "text": [
      "Epoch [72/100], Loss: 0.2803\n"
     ]
    },
    {
     "name": "stderr",
     "output_type": "stream",
     "text": [
      "Epoch 73/100: 100%|██████████| 391/391 [08:25<00:00,  1.29s/it]\n"
     ]
    },
    {
     "name": "stdout",
     "output_type": "stream",
     "text": [
      "Epoch [73/100], Loss: 0.2764\n"
     ]
    },
    {
     "name": "stderr",
     "output_type": "stream",
     "text": [
      "Epoch 74/100: 100%|██████████| 391/391 [08:47<00:00,  1.35s/it]\n"
     ]
    },
    {
     "name": "stdout",
     "output_type": "stream",
     "text": [
      "Epoch [74/100], Loss: 0.2885\n"
     ]
    },
    {
     "name": "stderr",
     "output_type": "stream",
     "text": [
      "Epoch 75/100: 100%|██████████| 391/391 [08:50<00:00,  1.36s/it]\n"
     ]
    },
    {
     "name": "stdout",
     "output_type": "stream",
     "text": [
      "Epoch [75/100], Loss: 0.2586\n"
     ]
    },
    {
     "name": "stderr",
     "output_type": "stream",
     "text": [
      "Epoch 76/100: 100%|██████████| 391/391 [08:13<00:00,  1.26s/it]\n"
     ]
    },
    {
     "name": "stdout",
     "output_type": "stream",
     "text": [
      "Epoch [76/100], Loss: 0.2540\n"
     ]
    },
    {
     "name": "stderr",
     "output_type": "stream",
     "text": [
      "Epoch 77/100: 100%|██████████| 391/391 [08:41<00:00,  1.33s/it]\n"
     ]
    },
    {
     "name": "stdout",
     "output_type": "stream",
     "text": [
      "Epoch [77/100], Loss: 0.2452\n"
     ]
    },
    {
     "name": "stderr",
     "output_type": "stream",
     "text": [
      "Epoch 78/100: 100%|██████████| 391/391 [08:59<00:00,  1.38s/it]\n"
     ]
    },
    {
     "name": "stdout",
     "output_type": "stream",
     "text": [
      "Epoch [78/100], Loss: 0.2361\n"
     ]
    },
    {
     "name": "stderr",
     "output_type": "stream",
     "text": [
      "Epoch 79/100: 100%|██████████| 391/391 [07:29<00:00,  1.15s/it]\n"
     ]
    },
    {
     "name": "stdout",
     "output_type": "stream",
     "text": [
      "Epoch [79/100], Loss: 0.2376\n"
     ]
    },
    {
     "name": "stderr",
     "output_type": "stream",
     "text": [
      "Epoch 80/100: 100%|██████████| 391/391 [08:49<00:00,  1.35s/it]\n"
     ]
    },
    {
     "name": "stdout",
     "output_type": "stream",
     "text": [
      "Epoch [80/100], Loss: 0.2489\n",
      "Test Accuracy after Epoch 80: 59.44%\n"
     ]
    },
    {
     "name": "stderr",
     "output_type": "stream",
     "text": [
      "Epoch 81/100: 100%|██████████| 391/391 [08:53<00:00,  1.36s/it]\n"
     ]
    },
    {
     "name": "stdout",
     "output_type": "stream",
     "text": [
      "Epoch [81/100], Loss: 0.2396\n"
     ]
    },
    {
     "name": "stderr",
     "output_type": "stream",
     "text": [
      "Epoch 82/100: 100%|██████████| 391/391 [08:09<00:00,  1.25s/it]\n"
     ]
    },
    {
     "name": "stdout",
     "output_type": "stream",
     "text": [
      "Epoch [82/100], Loss: 0.2315\n"
     ]
    },
    {
     "name": "stderr",
     "output_type": "stream",
     "text": [
      "Epoch 83/100: 100%|██████████| 391/391 [08:39<00:00,  1.33s/it]\n"
     ]
    },
    {
     "name": "stdout",
     "output_type": "stream",
     "text": [
      "Epoch [83/100], Loss: 0.2145\n"
     ]
    },
    {
     "name": "stderr",
     "output_type": "stream",
     "text": [
      "Epoch 84/100: 100%|██████████| 391/391 [08:07<00:00,  1.25s/it]\n"
     ]
    },
    {
     "name": "stdout",
     "output_type": "stream",
     "text": [
      "Epoch [84/100], Loss: 0.2174\n"
     ]
    },
    {
     "name": "stderr",
     "output_type": "stream",
     "text": [
      "Epoch 85/100: 100%|██████████| 391/391 [08:08<00:00,  1.25s/it]\n"
     ]
    },
    {
     "name": "stdout",
     "output_type": "stream",
     "text": [
      "Epoch [85/100], Loss: 0.1967\n"
     ]
    },
    {
     "name": "stderr",
     "output_type": "stream",
     "text": [
      "Epoch 86/100: 100%|██████████| 391/391 [07:21<00:00,  1.13s/it]\n"
     ]
    },
    {
     "name": "stdout",
     "output_type": "stream",
     "text": [
      "Epoch [86/100], Loss: 0.2159\n"
     ]
    },
    {
     "name": "stderr",
     "output_type": "stream",
     "text": [
      "Epoch 87/100: 100%|██████████| 391/391 [08:08<00:00,  1.25s/it]\n"
     ]
    },
    {
     "name": "stdout",
     "output_type": "stream",
     "text": [
      "Epoch [87/100], Loss: 0.2085\n"
     ]
    },
    {
     "name": "stderr",
     "output_type": "stream",
     "text": [
      "Epoch 88/100: 100%|██████████| 391/391 [08:09<00:00,  1.25s/it]\n"
     ]
    },
    {
     "name": "stdout",
     "output_type": "stream",
     "text": [
      "Epoch [88/100], Loss: 0.1968\n"
     ]
    },
    {
     "name": "stderr",
     "output_type": "stream",
     "text": [
      "Epoch 89/100: 100%|██████████| 391/391 [08:02<00:00,  1.23s/it]\n"
     ]
    },
    {
     "name": "stdout",
     "output_type": "stream",
     "text": [
      "Epoch [89/100], Loss: 0.1836\n"
     ]
    },
    {
     "name": "stderr",
     "output_type": "stream",
     "text": [
      "Epoch 90/100: 100%|██████████| 391/391 [08:43<00:00,  1.34s/it]\n"
     ]
    },
    {
     "name": "stdout",
     "output_type": "stream",
     "text": [
      "Epoch [90/100], Loss: 0.1836\n",
      "Test Accuracy after Epoch 90: 60.78%\n"
     ]
    },
    {
     "name": "stderr",
     "output_type": "stream",
     "text": [
      "Epoch 91/100: 100%|██████████| 391/391 [08:10<00:00,  1.26s/it]\n"
     ]
    },
    {
     "name": "stdout",
     "output_type": "stream",
     "text": [
      "Epoch [91/100], Loss: 0.1816\n"
     ]
    },
    {
     "name": "stderr",
     "output_type": "stream",
     "text": [
      "Epoch 92/100: 100%|██████████| 391/391 [08:53<00:00,  1.37s/it]\n"
     ]
    },
    {
     "name": "stdout",
     "output_type": "stream",
     "text": [
      "Epoch [92/100], Loss: 0.1749\n"
     ]
    },
    {
     "name": "stderr",
     "output_type": "stream",
     "text": [
      "Epoch 93/100: 100%|██████████| 391/391 [08:54<00:00,  1.37s/it]\n"
     ]
    },
    {
     "name": "stdout",
     "output_type": "stream",
     "text": [
      "Epoch [93/100], Loss: 0.1702\n"
     ]
    },
    {
     "name": "stderr",
     "output_type": "stream",
     "text": [
      "Epoch 94/100: 100%|██████████| 391/391 [08:53<00:00,  1.37s/it]\n"
     ]
    },
    {
     "name": "stdout",
     "output_type": "stream",
     "text": [
      "Epoch [94/100], Loss: 0.1773\n"
     ]
    },
    {
     "name": "stderr",
     "output_type": "stream",
     "text": [
      "Epoch 95/100: 100%|██████████| 391/391 [08:53<00:00,  1.36s/it]\n"
     ]
    },
    {
     "name": "stdout",
     "output_type": "stream",
     "text": [
      "Epoch [95/100], Loss: 0.1770\n"
     ]
    },
    {
     "name": "stderr",
     "output_type": "stream",
     "text": [
      "Epoch 96/100: 100%|██████████| 391/391 [08:20<00:00,  1.28s/it]\n"
     ]
    },
    {
     "name": "stdout",
     "output_type": "stream",
     "text": [
      "Epoch [96/100], Loss: 0.1798\n"
     ]
    },
    {
     "name": "stderr",
     "output_type": "stream",
     "text": [
      "Epoch 97/100: 100%|██████████| 391/391 [08:53<00:00,  1.37s/it]\n"
     ]
    },
    {
     "name": "stdout",
     "output_type": "stream",
     "text": [
      "Epoch [97/100], Loss: 0.1719\n"
     ]
    },
    {
     "name": "stderr",
     "output_type": "stream",
     "text": [
      "Epoch 98/100: 100%|██████████| 391/391 [08:53<00:00,  1.37s/it]\n"
     ]
    },
    {
     "name": "stdout",
     "output_type": "stream",
     "text": [
      "Epoch [98/100], Loss: 0.1554\n"
     ]
    },
    {
     "name": "stderr",
     "output_type": "stream",
     "text": [
      "Epoch 99/100: 100%|██████████| 391/391 [07:38<00:00,  1.17s/it]\n"
     ]
    },
    {
     "name": "stdout",
     "output_type": "stream",
     "text": [
      "Epoch [99/100], Loss: 0.1457\n"
     ]
    },
    {
     "name": "stderr",
     "output_type": "stream",
     "text": [
      "Epoch 100/100: 100%|██████████| 391/391 [07:21<00:00,  1.13s/it]\n"
     ]
    },
    {
     "name": "stdout",
     "output_type": "stream",
     "text": [
      "Epoch [100/100], Loss: 0.1447\n",
      "Test Accuracy after Epoch 100: 60.16%\n"
     ]
    }
   ],
   "source": [
    "##############################################################################\n",
    "# Train the model on perturbed images from                                   #\n",
    "# untargeted FGSM attack with epsilon = 8/255 on train dataset               #\n",
    "# Also use the following setup for training the model                        #\n",
    "##############################################################################\n",
    "\n",
    "import torchattacks\n",
    "\n",
    "# Define FGSM attack with epsilon=8/255\n",
    "fgsm_train = torchattacks.FGSM(adv_model, eps=8/255)\n",
    "\n",
    "# Training loop with adversarial examples\n",
    "for epoch in range(epochs):\n",
    "    adv_model.train()\n",
    "    running_loss = 0.0\n",
    "    for images, labels in tqdm(trainloader, desc=f\"Epoch {epoch+1}/{epochs}\"):\n",
    "        images, labels = images.to(device), labels.to(device)\n",
    "\n",
    "        # Generate adversarial examples\n",
    "        adv_images = fgsm_train(images, labels)\n",
    "\n",
    "        # Forward pass on adversarial images\n",
    "        outputs = adv_model(adv_images)\n",
    "        loss = criterion(outputs, labels)\n",
    "\n",
    "        # Backward pass and optimization\n",
    "        optimizer.zero_grad()\n",
    "        loss.backward()\n",
    "        optimizer.step()\n",
    "\n",
    "        running_loss += loss.item()\n",
    "    \n",
    "    avg_loss = running_loss / len(trainloader)\n",
    "    print(f\"Epoch [{epoch+1}/{epochs}], Loss: {avg_loss:.4f}\")\n",
    "    \n",
    "    # Optional: Evaluate on test set every 10 epochs to monitor progress\n",
    "    if (epoch + 1) % 10 == 0:\n",
    "        adv_model.eval()\n",
    "        correct = 0\n",
    "        total = 0\n",
    "        with torch.no_grad():\n",
    "            for test_images, test_labels in testloader:\n",
    "                test_images, test_labels = test_images.to(device), test_labels.to(device)\n",
    "                outputs = adv_model(test_images)\n",
    "                _, predicted = torch.max(outputs.data, 1)\n",
    "                total += test_labels.size(0)\n",
    "                correct += (predicted == test_labels).sum().item()\n",
    "        test_accuracy = 100 * correct / total\n",
    "        print(f\"Test Accuracy after Epoch {epoch+1}: {test_accuracy:.2f}%\")"
   ]
  },
  {
   "cell_type": "code",
   "execution_count": 24,
   "metadata": {},
   "outputs": [
    {
     "name": "stdout",
     "output_type": "stream",
     "text": [
      "Adversarially Trained Model Test Accuracy on 10000 test images: 60.16%\n"
     ]
    }
   ],
   "source": [
    "##############################################################################\n",
    "# Evaluate the new model on the test dataset                                 #\n",
    "##############################################################################\n",
    "\n",
    "# Set the model to evaluation mode\n",
    "adv_model.eval()\n",
    "\n",
    "correct = 0\n",
    "total = 0\n",
    "with torch.no_grad():\n",
    "    for images, labels in testloader:\n",
    "        images, labels = images.to(device), labels.to(device)\n",
    "        outputs = adv_model(images)\n",
    "        _, predicted = torch.max(outputs.data, 1)\n",
    "        total += labels.size(0)\n",
    "        correct += (predicted == labels).sum().item()\n",
    "\n",
    "test_accuracy = 100 * correct / total\n",
    "print(f'Adversarially Trained Model Test Accuracy on 10000 test images: {test_accuracy:.2f}%')"
   ]
  },
  {
   "cell_type": "code",
   "execution_count": 25,
   "metadata": {},
   "outputs": [
    {
     "name": "stdout",
     "output_type": "stream",
     "text": [
      "Adversarially Trained Model Accuracy under FGSM Attack (epsilon=8/255): 22.79%\n"
     ]
    }
   ],
   "source": [
    "##############################################################################\n",
    "# Run FGSM attack on the adversarially trained model with epsilon = 8/255    #\n",
    "##############################################################################\n",
    "\n",
    "# Define FGSM attack with epsilon=8/255\n",
    "fgsm_attack_adv = torchattacks.FGSM(adv_model, eps=8/255)\n",
    "\n",
    "# Evaluate FGSM attack on the adversarially trained model\n",
    "correct = 0\n",
    "total = 0\n",
    "adv_model.eval()\n",
    "for images, labels in testloader:\n",
    "    images, labels = images.to(device), labels.to(device)\n",
    "    # Generate adversarial examples\n",
    "    adv_images = fgsm_attack_adv(images, labels)\n",
    "    # Predict with adversarial images\n",
    "    outputs = adv_model(adv_images)\n",
    "    _, predicted = torch.max(outputs.data, 1)\n",
    "    total += labels.size(0)\n",
    "    correct += (predicted == labels).sum().item()\n",
    "\n",
    "fgsm_accuracy_adv = 100 * correct / total\n",
    "print(f'Adversarially Trained Model Accuracy under FGSM Attack (epsilon=8/255): {fgsm_accuracy_adv:.2f}%')\n"
   ]
  },
  {
   "cell_type": "code",
   "execution_count": null,
   "metadata": {},
   "outputs": [
    {
     "name": "stdout",
     "output_type": "stream",
     "text": [
      "Adversarially Trained Model Accuracy under PGD Attack (k=4): 18.64%\n"
     ]
    }
   ],
   "source": [
    "##############################################################################\n",
    "#  Run PGD attack on the adversarially trained model with k=4                #\n",
    "##############################################################################\n",
    "\n",
    "# Define PGD attack parameters\n",
    "epsilon = 8/255\n",
    "alpha = 2/255\n",
    "k = 4\n",
    "\n",
    "# Initialize PGD attack\n",
    "pgd_attack_adv = LinfPGDAttack(adv_model, epsilon=epsilon, k=k, alpha=alpha)\n",
    "\n",
    "# Evaluate PGD attack on the adversarially trained model\n",
    "correct = 0\n",
    "total = 0\n",
    "adv_model.eval()\n",
    "for images, labels in testloader:\n",
    "    images, labels = images.to(device), labels.to(device)\n",
    "    # Generate adversarial examples using PGD\n",
    "    adv_images = pgd_attack_adv(images, labels)\n",
    "    # Predict with adversarial images\n",
    "    outputs = adv_model(adv_images)\n",
    "    _, predicted = torch.max(outputs.data, 1)\n",
    "    total += labels.size(0)\n",
    "    correct += (predicted == labels).sum().item()\n",
    "\n",
    "pgd_accuracy_adv = 100 * correct / total\n",
    "print(f'Adversarially Trained Model Accuracy under PGD Attack (k=4): {pgd_accuracy_adv:.2f}%')\n"
   ]
  },
  {
   "cell_type": "code",
   "execution_count": 26,
   "metadata": {},
   "outputs": [
    {
     "name": "stdout",
     "output_type": "stream",
     "text": [
      "Generating Universal Adversarial Perturbation (UAP) for adversarially trained model...\n",
      "UAP Generation Iteration 1/10\n"
     ]
    },
    {
     "name": "stderr",
     "output_type": "stream",
     "text": [
      "Iteration 1: 100%|██████████| 391/391 [04:03<00:00,  1.60it/s]\n"
     ]
    },
    {
     "name": "stdout",
     "output_type": "stream",
     "text": [
      "UAP Generation Iteration 2/10\n"
     ]
    },
    {
     "name": "stderr",
     "output_type": "stream",
     "text": [
      "Iteration 2: 100%|██████████| 391/391 [04:03<00:00,  1.61it/s]\n"
     ]
    },
    {
     "name": "stdout",
     "output_type": "stream",
     "text": [
      "UAP Generation Iteration 3/10\n"
     ]
    },
    {
     "name": "stderr",
     "output_type": "stream",
     "text": [
      "Iteration 3: 100%|██████████| 391/391 [04:03<00:00,  1.60it/s]\n"
     ]
    },
    {
     "name": "stdout",
     "output_type": "stream",
     "text": [
      "UAP Generation Iteration 4/10\n"
     ]
    },
    {
     "name": "stderr",
     "output_type": "stream",
     "text": [
      "Iteration 4: 100%|██████████| 391/391 [04:03<00:00,  1.60it/s]\n"
     ]
    },
    {
     "name": "stdout",
     "output_type": "stream",
     "text": [
      "UAP Generation Iteration 5/10\n"
     ]
    },
    {
     "name": "stderr",
     "output_type": "stream",
     "text": [
      "Iteration 5: 100%|██████████| 391/391 [04:03<00:00,  1.60it/s]\n"
     ]
    },
    {
     "name": "stdout",
     "output_type": "stream",
     "text": [
      "UAP Generation Iteration 6/10\n"
     ]
    },
    {
     "name": "stderr",
     "output_type": "stream",
     "text": [
      "Iteration 6: 100%|██████████| 391/391 [04:03<00:00,  1.60it/s]\n"
     ]
    },
    {
     "name": "stdout",
     "output_type": "stream",
     "text": [
      "UAP Generation Iteration 7/10\n"
     ]
    },
    {
     "name": "stderr",
     "output_type": "stream",
     "text": [
      "Iteration 7: 100%|██████████| 391/391 [04:03<00:00,  1.60it/s]\n"
     ]
    },
    {
     "name": "stdout",
     "output_type": "stream",
     "text": [
      "UAP Generation Iteration 8/10\n"
     ]
    },
    {
     "name": "stderr",
     "output_type": "stream",
     "text": [
      "Iteration 8: 100%|██████████| 391/391 [04:03<00:00,  1.60it/s]\n"
     ]
    },
    {
     "name": "stdout",
     "output_type": "stream",
     "text": [
      "UAP Generation Iteration 9/10\n"
     ]
    },
    {
     "name": "stderr",
     "output_type": "stream",
     "text": [
      "Iteration 9: 100%|██████████| 391/391 [04:03<00:00,  1.60it/s]\n"
     ]
    },
    {
     "name": "stdout",
     "output_type": "stream",
     "text": [
      "UAP Generation Iteration 10/10\n"
     ]
    },
    {
     "name": "stderr",
     "output_type": "stream",
     "text": [
      "Iteration 10: 100%|██████████| 391/391 [04:03<00:00,  1.60it/s]\n"
     ]
    },
    {
     "name": "stdout",
     "output_type": "stream",
     "text": [
      "Adversarially Trained Model Accuracy under UAP Attack (max_iters=10): 60.28%\n"
     ]
    }
   ],
   "source": [
    "##############################################################################\n",
    "#  Run UAP attack on the adversarially trained model with max_iters = 10     #\n",
    "##############################################################################\n",
    "\n",
    "# Initialize the UAP attack\n",
    "uap_attack_adv = UAPAttack(adv_model, epsilon=8/255, delta=2/255, max_iters=10, data_loader=trainloader)\n",
    "print(\"Generating Universal Adversarial Perturbation (UAP) for adversarially trained model...\")\n",
    "uap_adv = uap_attack_adv.generate_uap()\n",
    "\n",
    "# Evaluate UAP attack on the adversarially trained model\n",
    "correct = 0\n",
    "total = 0\n",
    "adv_model.eval()\n",
    "for images, labels in testloader:\n",
    "    images, labels = images.to(device), labels.to(device)\n",
    "    # Apply UAP to the images\n",
    "    adv_images = uap_attack_adv(images)\n",
    "    # Predict with adversarial images\n",
    "    outputs = adv_model(adv_images)\n",
    "    _, predicted = torch.max(outputs.data, 1)\n",
    "    total += labels.size(0)\n",
    "    correct += (predicted == labels).sum().item()\n",
    "\n",
    "uap_accuracy_adv = 100 * correct / total\n",
    "print(f'Adversarially Trained Model Accuracy under UAP Attack (max_iters=10): {uap_accuracy_adv:.2f}%')\n"
   ]
  },
  {
   "cell_type": "code",
   "execution_count": 27,
   "metadata": {},
   "outputs": [],
   "source": [
    "class UAPAttack(object):\n",
    "    def __init__(self, model, epsilon=8/255, delta=2/255, max_iters=10, data_loader=None):\n",
    "        self.model = model\n",
    "        self.epsilon = epsilon\n",
    "        self.delta = delta\n",
    "        self.max_iters = max_iters\n",
    "        self.data_loader = data_loader\n",
    "\n",
    "        # Initialize universal perturbation to zero\n",
    "        self.uap = torch.zeros(3, 32, 32).to(device)\n",
    "\n",
    "    def generate_uap(self):\n",
    "        self.model.eval()\n",
    "        for _ in range(self.max_iters):\n",
    "            for images, labels in tqdm(self.data_loader, desc=f\"UAP Iteration {_+1}/{self.max_iters}\"):\n",
    "                images, labels = images.to(device), labels.to(device)\n",
    "                images.requires_grad = True\n",
    "\n",
    "                # Add the current universal perturbation to the images\n",
    "                perturbed_images = torch.clamp(images + self.uap, 0, 1)\n",
    "                \n",
    "                outputs = self.model(perturbed_images)\n",
    "                loss = criterion(outputs, labels)\n",
    "                self.model.zero_grad()\n",
    "                loss.backward()\n",
    "                grad = images.grad.data\n",
    "\n",
    "                # Update the universal perturbation\n",
    "                self.uap += self.delta * torch.sign(grad.mean(dim=0))\n",
    "                self.uap = torch.clamp(self.uap, -self.epsilon, self.epsilon)\n",
    "\n",
    "        return self.uap\n",
    "\n",
    "    def __call__(self, image):\n",
    "        \"\"\"\n",
    "        Apply the universal perturbation to a given image.\n",
    "        \"\"\"\n",
    "        perturbed_image = torch.clamp(image + self.uap, 0, 1)\n",
    "        return perturbed_image"
   ]
  },
  {
   "cell_type": "code",
   "execution_count": 28,
   "metadata": {},
   "outputs": [
    {
     "name": "stdout",
     "output_type": "stream",
     "text": [
      "Adversarially Trained Model saved to resnet18_cifar10_model_adversarially_trained.pth\n"
     ]
    }
   ],
   "source": [
    "# Save adversarially trained model\n",
    "adv_model.eval()\n",
    "adv_model_name = \"resnet18_cifar10_model_adversarially_trained.pth\"\n",
    "adv_model_PATH = f\"{adv_model_name}\"\n",
    "torch.save(adv_model.state_dict(), adv_model_PATH)\n",
    "print(f\"Adversarially Trained Model saved to {adv_model_PATH}\")"
   ]
  },
  {
   "cell_type": "code",
   "execution_count": 36,
   "metadata": {},
   "outputs": [],
   "source": [
    "def visualize_attack(original_images, perturbed_images, original_labels, perturbed_labels):\n",
    "    \"\"\"\n",
    "    Plots the original and perturbed images along with their predicted labels.\n",
    "    \n",
    "    Parameters:\n",
    "        original_images (Tensor): Batch of original images.\n",
    "        perturbed_images (Tensor): Batch of perturbed images.\n",
    "        original_labels (Tensor): Predicted labels for original images.\n",
    "        perturbed_labels (Tensor): Predicted labels for perturbed images.\n",
    "    \"\"\"\n",
    "    batch_size = original_images.size(0)\n",
    "    for i in range(batch_size):\n",
    "        orig_img = original_images[i].cpu().detach().numpy().transpose(1, 2, 0)\n",
    "        pert_img = perturbed_images[i].cpu().detach().numpy().transpose(1, 2, 0)\n",
    "        orig_label = classes[original_labels[i]]\n",
    "        pert_label = classes[perturbed_labels[i]]\n",
    "        \n",
    "        fig, axes = plt.subplots(1, 2, figsize=(8, 4))\n",
    "        axes[0].imshow(orig_img)\n",
    "        axes[0].set_title(f\"Original: {orig_label}\")\n",
    "        axes[0].axis('off')\n",
    "        \n",
    "        axes[1].imshow(pert_img)\n",
    "        axes[1].set_title(f\"Perturbed: {pert_label}\")\n",
    "        axes[1].axis('off')\n",
    "        \n",
    "        plt.tight_layout()\n",
    "        plt.show()"
   ]
  },
  {
   "cell_type": "code",
   "execution_count": 37,
   "metadata": {},
   "outputs": [
    {
     "data": {
      "image/png": "[encoded data removed]",
      "text/plain": [
       "<Figure size 800x400 with 2 Axes>"
      ]
     },
     "metadata": {},
     "output_type": "display_data"
    },
    {
     "data": {
      "image/png": "[encoded data removed]",
      "text/plain": [
       "<Figure size 800x400 with 2 Axes>"
      ]
     },
     "metadata": {},
     "output_type": "display_data"
    },
    {
     "data": {
      "image/png": "[encoded data removed]",
      "text/plain": [
       "<Figure size 800x400 with 2 Axes>"
      ]
     },
     "metadata": {},
     "output_type": "display_data"
    }
   ],
   "source": [
    "##############################################################################\n",
    "# Choose 3 random images from testset and run FGSM attack and visualize      #\n",
    "##############################################################################\n",
    "\n",
    "import random\n",
    "import matplotlib.pyplot as plt  # Ensure matplotlib is imported\n",
    "import torchattacks  # Ensure torchattacks is imported\n",
    "\n",
    "# Define the visualize_attack function if not already defined\n",
    "def visualize_attack(original_images, perturbed_images, original_labels, perturbed_labels):\n",
    "    \"\"\"\n",
    "    Plots the original and perturbed images along with their predicted labels.\n",
    "    \n",
    "    Parameters:\n",
    "        original_images (Tensor): Batch of original images.\n",
    "        perturbed_images (Tensor): Batch of perturbed images.\n",
    "        original_labels (Tensor): Predicted labels for original images.\n",
    "        perturbed_labels (Tensor): Predicted labels for perturbed images.\n",
    "    \"\"\"\n",
    "    batch_size = original_images.size(0)\n",
    "    for i in range(batch_size):\n",
    "        orig_img = original_images[i].cpu().detach().numpy().transpose(1, 2, 0)\n",
    "        pert_img = perturbed_images[i].cpu().detach().numpy().transpose(1, 2, 0)\n",
    "        orig_label = classes[original_labels[i]]\n",
    "        pert_label = classes[perturbed_labels[i]]\n",
    "        \n",
    "        fig, axes = plt.subplots(1, 2, figsize=(8, 4))\n",
    "        axes[0].imshow(orig_img)\n",
    "        axes[0].set_title(f\"Original: {orig_label}\")\n",
    "        axes[0].axis('off')\n",
    "        \n",
    "        axes[1].imshow(pert_img)\n",
    "        axes[1].set_title(f\"Perturbed: {pert_label}\")\n",
    "        axes[1].axis('off')\n",
    "        \n",
    "        plt.tight_layout()\n",
    "        plt.show()\n",
    "\n",
    "# Get a batch of test images\n",
    "dataiter = iter(testloader)\n",
    "images, labels = next(dataiter)  # Corrected: Use next(dataiter)\n",
    "images, labels = images.to(device), labels.to(device)\n",
    "\n",
    "# Select 3 random indices\n",
    "indices = random.sample(range(images.size(0)), 3)\n",
    "selected_images = images[indices]\n",
    "selected_labels = labels[indices]\n",
    "\n",
    "# Run FGSM attack on adversarially trained model\n",
    "fgsm_attack_adv = torchattacks.FGSM(adv_model, eps=8/255)\n",
    "adv_images = fgsm_attack_adv(selected_images, selected_labels)\n",
    "\n",
    "# Get predictions\n",
    "adv_model.eval()\n",
    "with torch.no_grad():\n",
    "    outputs_orig = adv_model(selected_images)\n",
    "    outputs_adv = adv_model(adv_images)\n",
    "    _, preds_orig = torch.max(outputs_orig, 1)\n",
    "    _, preds_adv = torch.max(outputs_adv, 1)\n",
    "\n",
    "# Visualize the results\n",
    "visualize_attack(selected_images, adv_images, preds_orig, preds_adv)"
   ]
  },
  {
   "cell_type": "code",
   "execution_count": 38,
   "metadata": {},
   "outputs": [
    {
     "name": "stderr",
     "output_type": "stream",
     "text": [
      "Clipping input data to the valid range for imshow with RGB data ([0..1] for floats or [0..255] for integers). Got range [-0.03137255..1.0117648].\n"
     ]
    },
    {
     "data": {
      "image/png": "[encoded data removed]",
      "text/plain": [
       "<Figure size 800x400 with 2 Axes>"
      ]
     },
     "metadata": {},
     "output_type": "display_data"
    },
    {
     "name": "stderr",
     "output_type": "stream",
     "text": [
      "Clipping input data to the valid range for imshow with RGB data ([0..1] for floats or [0..255] for integers). Got range [-0.027450982..1.0196079].\n"
     ]
    },
    {
     "data": {
      "image/png": "[encoded data removed]",
      "text/plain": [
       "<Figure size 800x400 with 2 Axes>"
      ]
     },
     "metadata": {},
     "output_type": "display_data"
    },
    {
     "name": "stderr",
     "output_type": "stream",
     "text": [
      "Clipping input data to the valid range for imshow with RGB data ([0..1] for floats or [0..255] for integers). Got range [-0.011764707..1.0078431].\n"
     ]
    },
    {
     "data": {
      "image/png": "[encoded data removed]",
      "text/plain": [
       "<Figure size 800x400 with 2 Axes>"
      ]
     },
     "metadata": {},
     "output_type": "display_data"
    }
   ],
   "source": [
    "##############################################################################\n",
    "# Choose 3 random images from testset and run PGD attack and visualize      #\n",
    "##############################################################################\n",
    "\n",
    "# Run PGD attack on adversarially trained model\n",
    "k = 4\n",
    "pgd_attack_adv = LinfPGDAttack(adv_model, epsilon=8/255, k=k, alpha=2/255)\n",
    "adv_images_pgd = pgd_attack_adv(selected_images, selected_labels)\n",
    "\n",
    "# Get predictions\n",
    "adv_model.eval()\n",
    "with torch.no_grad():\n",
    "    outputs_orig = adv_model(selected_images)\n",
    "    outputs_adv_pgd = adv_model(adv_images_pgd)\n",
    "    _, preds_orig_pgd = torch.max(outputs_orig, 1)\n",
    "    _, preds_adv_pgd = torch.max(outputs_adv_pgd, 1)\n",
    "\n",
    "# Visualize the results\n",
    "visualize_attack(selected_images, adv_images_pgd, preds_orig_pgd, preds_adv_pgd)"
   ]
  },
  {
   "cell_type": "code",
   "execution_count": 39,
   "metadata": {},
   "outputs": [
    {
     "data": {
      "image/png": "[encoded data removed]",
      "text/plain": [
       "<Figure size 800x400 with 2 Axes>"
      ]
     },
     "metadata": {},
     "output_type": "display_data"
    },
    {
     "data": {
      "image/png": "[encoded data removed]",
      "text/plain": [
       "<Figure size 800x400 with 2 Axes>"
      ]
     },
     "metadata": {},
     "output_type": "display_data"
    },
    {
     "data": {
      "image/png": "[encoded data removed]",
      "text/plain": [
       "<Figure size 800x400 with 2 Axes>"
      ]
     },
     "metadata": {},
     "output_type": "display_data"
    }
   ],
   "source": [
    "##############################################################################\n",
    "# Choose 3 random images from testset and run UAP attack and visualize       #\n",
    "##############################################################################\n",
    "\n",
    "# Ensure that the UAP for adversarially trained model has been generated\n",
    "if not hasattr(uap_attack_adv, 'uap') or uap_attack_adv.uap is None:\n",
    "    print(\"Generating UAP for adversarially trained model...\")\n",
    "    uap_attack_adv.generate_uap()\n",
    "\n",
    "# Apply UAP attack\n",
    "adv_images_uap = uap_attack_adv(selected_images)\n",
    "\n",
    "# Get predictions\n",
    "adv_model.eval()\n",
    "with torch.no_grad():\n",
    "    outputs_orig_uap = adv_model(selected_images)\n",
    "    outputs_adv_uap = adv_model(adv_images_uap)\n",
    "    _, preds_orig_uap = torch.max(outputs_orig_uap, 1)\n",
    "    _, preds_adv_uap = torch.max(outputs_adv_uap, 1)\n",
    "\n",
    "# Visualize the results\n",
    "visualize_attack(selected_images, adv_images_uap, preds_orig_uap, preds_adv_uap)\n"
   ]
  },
  {
   "cell_type": "markdown",
   "metadata": {},
   "source": [
    "In this section you are going to adversarially train your model and see the results. "
   ]
  },
  {
   "cell_type": "markdown",
   "metadata": {},
   "source": [
    "In this section you are going to adversarially train your model and see the results. "
   ]
  },
  {
   "cell_type": "markdown",
   "metadata": {},
   "source": [
    "Answer the following questions:\n",
    "\n",
    "1. What happened to the accuracy of the adversarially trained model?\n",
    "\n",
    "The accuracy of the adversarially trained model on clean test data may show a slight decrease compared to the original model. This is expected, as the model has been trained to resist adversarial attacks, which can sometimes lead to a trade-off where it sacrifices some performance on clean (non-adversarial) examples. However, the main improvement is seen in its robustness against adversarial examples.\n",
    "\n",
    "2. What do you conclude from the result of the FGSM attack on the adversarially trained model?\n",
    "\n",
    "The result of the FGSM attack on the adversarially trained model typically shows a significant increase in accuracy compared to the original model when subjected to the same attack. This indicates that adversarial training has successfully equipped the model to better withstand this specific type of adversarial perturbation, demonstrating its effectiveness in improving robustness against FGSM attacks.\n",
    "\n",
    "3. What do you conclude from the result of the PGD attack on the adversarially trained model?\n",
    "\n",
    "The performance of the adversarially trained model under the PGD attack may still be better than that of the original model, but the improvement might not be as pronounced as with the FGSM attack. This is because PGD is a more powerful attack that simulates multiple gradient updates, making it more challenging for models to defend against. The results suggest that while adversarial training helps, there is still room for improvement in handling stronger attacks like PGD.\n",
    "\n",
    "4. What do you conclude from the result of the UAP attack on the adversarially trained model?\n",
    "\n",
    "The results from the UAP attack often indicate whether the adversarially trained model has gained additional robustness against universal perturbations. If the model maintains a relatively high accuracy despite the UAP attack, it shows that the training strategy has effectively generalized its robustness to more sophisticated, universal adversarial examples. Conversely, a significant drop in accuracy would suggest that the model’s defenses could be further improved.\n",
    "\n",
    "5. What is your final conclusion?\n",
    "\n",
    "In conclusion, adversarial training is a beneficial approach for improving model robustness against adversarial attacks. The adversarially trained model usually demonstrates increased resistance to specific attacks like FGSM, while showing mixed results against stronger attacks like PGD and UAP. This suggests that while adversarial training enhances robustness, it does not completely eliminate vulnerabilities. Continuous research and the exploration of advanced training techniques and model architectures are essential to develop models that can withstand a wider variety of adversarial threats while maintaining performance on clean data. Future work could involve experimenting with different types of adversarial examples, multi-task training, or ensemble methods to enhance overall model robustness."
   ]
  }
 ],
 "metadata": {
  "kernelspec": {
   "display_name": ".venv",
   "language": "python",
   "name": "python3"
  },
  "language_info": {
   "codemirror_mode": {
    "name": "ipython",
    "version": 3
   },
   "file_extension": ".py",
   "mimetype": "text/x-python",
   "name": "python",
   "nbconvert_exporter": "python",
   "pygments_lexer": "ipython3",
   "version": "3.12.2"
  }
 },
 "nbformat": 4,
 "nbformat_minor": 2
}
