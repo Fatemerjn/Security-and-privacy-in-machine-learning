{
 "cells": [
  {
   "cell_type": "markdown",
   "metadata": {
    "id": "TwUAmmTcl3G-"
   },
   "source": [
    "# SPML HW3: Breaking Defenses & Black-Box Attacks"
   ]
  },
  {
   "cell_type": "code",
   "execution_count": 1,
   "metadata": {
    "id": "gThurMADlvnK"
   },
   "outputs": [],
   "source": [
    "name = 'Fateme Raeijian'\n",
    "std_id = '402203389'"
   ]
  },
  {
   "cell_type": "code",
   "execution_count": 2,
   "metadata": {
    "id": "wnLuXjkDmJWk"
   },
   "outputs": [
    {
     "data": {
      "text/plain": [
       "'cpu'"
      ]
     },
     "execution_count": 2,
     "metadata": {},
     "output_type": "execute_result"
    }
   ],
   "source": [
    "import torch\n",
    "from torch import nn\n",
    "from torch.optim import Adam\n",
    "import torch.nn.functional as F\n",
    "from torch.nn import CrossEntropyLoss\n",
    "from torch.utils.data import DataLoader\n",
    "\n",
    "from torchvision import transforms\n",
    "from torchvision.models import resnet18, mobilenet_v2\n",
    "from torchvision.datasets.cifar import CIFAR10\n",
    "\n",
    "from tqdm import trange, tqdm\n",
    "\n",
    "torch.manual_seed(0)\n",
    "\n",
    "device = 'cuda' if torch.cuda.is_available() else 'cpu'\n",
    "device\n"
   ]
  },
  {
   "cell_type": "markdown",
   "metadata": {
    "id": "6YkpcqvmTcq6"
   },
   "source": [
    "# CIFAR10 Dataset (5 points)"
   ]
  },
  {
   "cell_type": "code",
   "execution_count": 3,
   "metadata": {
    "id": "iSIlVGXMoQA6"
   },
   "outputs": [
    {
     "name": "stdout",
     "output_type": "stream",
     "text": [
      "Downloading https://www.cs.toronto.edu/~kriz/cifar-10-python.tar.gz to ./data\\cifar-10-python.tar.gz\n"
     ]
    },
    {
     "name": "stderr",
     "output_type": "stream",
     "text": [
      "100%|██████████| 170M/170M [02:14<00:00, 1.27MB/s] \n"
     ]
    },
    {
     "name": "stdout",
     "output_type": "stream",
     "text": [
      "Extracting ./data\\cifar-10-python.tar.gz to ./data\n",
      "Files already downloaded and verified\n"
     ]
    }
   ],
   "source": [
    "norm_mean = (0.4914, 0.4822, 0.4465)\n",
    "norm_std = (0.2023, 0.1994, 0.2010)\n",
    "batch_size = 128\n",
    "\n",
    "mu = torch.tensor(norm_mean).view(3,1,1).to(device)\n",
    "std = torch.tensor(norm_std).view(3,1,1).to(device)\n",
    "\n",
    "upper_limit = ((1 - mu) / std)\n",
    "lower_limit = ((0 - mu) / std)\n",
    "\n",
    "transform_train = transforms.Compose([\n",
    "    transforms.RandomCrop(32, padding=4),        \n",
    "    transforms.RandomHorizontalFlip(),           \n",
    "    transforms.ToTensor(),                       \n",
    "    transforms.Normalize(norm_mean, norm_std),   \n",
    "])\n",
    "\n",
    "transform_test = transforms.Compose([\n",
    "    transforms.ToTensor(),                       \n",
    "    transforms.Normalize(norm_mean, norm_std),   \n",
    "])\n",
    "\n",
    "trainset = CIFAR10(root='./data', train=True, download=True, transform=transform_train)\n",
    "trainloader = DataLoader(trainset, batch_size=batch_size, shuffle=True, num_workers=2)\n",
    "\n",
    "testset = CIFAR10(root='./data', train=False, download=True, transform=transform_test)\n",
    "testloader = DataLoader(testset, batch_size=batch_size, shuffle=False, num_workers=2)\n",
    "\n",
    "classes = ('plane', 'car', 'bird', 'cat', 'deer',\n",
    "           'dog', 'frog', 'horse', 'ship', 'truck')\n"
   ]
  },
  {
   "cell_type": "markdown",
   "metadata": {
    "id": "4_3oDmJlmTD-"
   },
   "source": [
    "# Defensive Distillation (25 points)"
   ]
  },
  {
   "cell_type": "markdown",
   "metadata": {
    "id": "6cJsiRusm54S"
   },
   "source": [
    "[Defensive distillation](https://arxiv.org/abs/1511.04508) proceeds in four steps:\n",
    "\n",
    "1.   **Train the teacher network**, by setting the temperature of the softmax to T during the\n",
    "training phase.\n",
    "2.   **Compute soft labels** by apply the teacher network to each instance in the training set, again evaluating the softmax at temperature T.\n",
    "3.  **Train the distilled network** (a network with the same shape as the teacher network) on the soft labels, using softmax at temperature T.\n",
    "4.  Finally, when running the distilled network at test time to classify new inputs, use temperature 1.\n",
    "\n"
   ]
  },
  {
   "cell_type": "markdown",
   "metadata": {
    "id": "ppg_6w0joa-D"
   },
   "source": [
    "## Train the teacher"
   ]
  },
  {
   "cell_type": "code",
   "execution_count": 4,
   "metadata": {
    "id": "rZj3ygtFocYN"
   },
   "outputs": [],
   "source": [
    "def train_step(model, dataloader, loss_fn, optimizer):\n",
    "    model.train()\n",
    "    running_loss = 0.0\n",
    "    correct = 0\n",
    "    total = 0\n",
    "    \n",
    "    for inputs, labels in dataloader:\n",
    "        inputs, labels = inputs.to(device), labels.to(device)\n",
    "        \n",
    "        optimizer.zero_grad()\n",
    "        \n",
    "        outputs = model(inputs)  \n",
    "        loss = loss_fn(outputs, labels)\n",
    "        \n",
    "        loss.backward()\n",
    "        optimizer.step()\n",
    "        \n",
    "        running_loss += loss.item()\n",
    "        _, predicted = torch.max(outputs, 1)\n",
    "        total += labels.size(0)\n",
    "        correct += (predicted == labels).sum().item()\n",
    "    \n",
    "    loss = running_loss / len(dataloader)\n",
    "    accuracy = 100 * correct / total\n",
    "    return loss, accuracy\n",
    "\n",
    "\n",
    "def train_teacher(model, n_epochs, loader=trainloader, temp=1):  \n",
    "    optimizer = Adam(model.parameters(), lr=0.001)\n",
    "    loss_fn = CrossEntropyLoss()\n",
    "    \n",
    "    for epoch in range(n_epochs):\n",
    "        epoch_loss, epoch_accuracy = train_step(model, loader, loss_fn, optimizer)\n",
    "        \n",
    "        print(f\"Epoch [{epoch+1}/{n_epochs}], Loss: {epoch_loss:.4f}, Accuracy: {epoch_accuracy:.2f}%\")\n"
   ]
  },
  {
   "cell_type": "markdown",
   "metadata": {
    "id": "evuzvOUZ4bPT"
   },
   "source": [
    "You can use a pre-trained resnet to speed up the training process."
   ]
  },
  {
   "cell_type": "code",
   "execution_count": 5,
   "metadata": {},
   "outputs": [
    {
     "name": "stderr",
     "output_type": "stream",
     "text": [
      "Downloading: \"https://download.pytorch.org/models/resnet18-f37072fd.pth\" to C:\\Users\\Fateme/.cache\\torch\\hub\\checkpoints\\resnet18-f37072fd.pth\n",
      "100%|██████████| 44.7M/44.7M [00:33<00:00, 1.40MB/s]\n"
     ]
    },
    {
     "name": "stdout",
     "output_type": "stream",
     "text": [
      "Epoch [1/15], Loss: 1.0362, Accuracy: 64.39%\n",
      "Epoch [2/15], Loss: 0.7406, Accuracy: 74.77%\n",
      "Epoch [3/15], Loss: 0.6482, Accuracy: 77.93%\n",
      "Epoch [4/15], Loss: 0.5879, Accuracy: 79.80%\n",
      "Epoch [5/15], Loss: 0.5508, Accuracy: 81.15%\n",
      "Epoch [6/15], Loss: 0.5218, Accuracy: 82.05%\n",
      "Epoch [7/15], Loss: 0.4910, Accuracy: 83.27%\n",
      "Epoch [8/15], Loss: 0.4684, Accuracy: 83.92%\n",
      "Epoch [9/15], Loss: 0.4452, Accuracy: 84.92%\n",
      "Epoch [10/15], Loss: 0.4343, Accuracy: 85.01%\n",
      "Epoch [11/15], Loss: 0.4090, Accuracy: 85.90%\n",
      "Epoch [12/15], Loss: 0.4093, Accuracy: 86.01%\n",
      "Epoch [13/15], Loss: 0.3815, Accuracy: 86.79%\n",
      "Epoch [14/15], Loss: 0.3763, Accuracy: 87.15%\n",
      "Epoch [15/15], Loss: 0.3599, Accuracy: 87.60%\n"
     ]
    }
   ],
   "source": [
    "from torchvision.models import ResNet18_Weights\n",
    "\n",
    "teacher = resnet18(weights=ResNet18_Weights.IMAGENET1K_V1).to(device)\n",
    "teacher.fc = nn.Linear(teacher.fc.in_features, 10).to(device)\n",
    "\n",
    "train_teacher(teacher, 15)\n"
   ]
  },
  {
   "cell_type": "markdown",
   "metadata": {
    "id": "9EFhPyAmzmeB"
   },
   "source": [
    "## Test the teacher"
   ]
  },
  {
   "cell_type": "code",
   "execution_count": 6,
   "metadata": {
    "id": "iIVtvL32zopl"
   },
   "outputs": [],
   "source": [
    "def test_clean(model, dataloader=testloader):\n",
    "    model.eval() \n",
    "    correct = 0\n",
    "    total = 0\n",
    "    \n",
    "    with torch.no_grad():  \n",
    "        for inputs, labels in dataloader:\n",
    "            inputs, labels = inputs.to(device), labels.to(device)\n",
    "\n",
    "            outputs = model(inputs)\n",
    "\n",
    "            _, predicted = torch.max(outputs, 1)\n",
    "            total += labels.size(0)\n",
    "            correct += (predicted == labels).sum().item()\n",
    "\n",
    "    accuracy = 100 * correct / total\n",
    "    return accuracy\n"
   ]
  },
  {
   "cell_type": "markdown",
   "metadata": {
    "id": "qs9LVS7uN-Fp"
   },
   "source": [
    "Print the clean accuracy of the teacher."
   ]
  },
  {
   "cell_type": "code",
   "execution_count": 7,
   "metadata": {
    "id": "SFEzA16Cz63A"
   },
   "outputs": [
    {
     "name": "stdout",
     "output_type": "stream",
     "text": [
      "Teacher Accuracy 84.64%\n"
     ]
    }
   ],
   "source": [
    "print(f'Teacher Accuracy {test_clean(teacher):.2f}%')"
   ]
  },
  {
   "cell_type": "markdown",
   "metadata": {
    "id": "68Fnkb39vYnl"
   },
   "source": [
    "## Train the student"
   ]
  },
  {
   "cell_type": "code",
   "execution_count": 8,
   "metadata": {
    "id": "nfu9ZVWFvaL5"
   },
   "outputs": [],
   "source": [
    "def distill(model, teacher, dataloader, optimizer, T, alpha=0.5):\n",
    "    \"\"\"\n",
    "    Perform a distillation step with combined loss.\n",
    "    \n",
    "    Args:\n",
    "        model: Student model.\n",
    "        teacher: Teacher model.\n",
    "        dataloader: DataLoader for training data.\n",
    "        optimizer: Optimizer.\n",
    "        T: Temperature.\n",
    "        alpha: Weight for the classification loss.\n",
    "        \n",
    "    Returns:\n",
    "        loss: Combined loss.\n",
    "        accuracy: Accuracy on true labels.\n",
    "    \"\"\"\n",
    "    model.train()\n",
    "    teacher.eval()\n",
    "    running_loss = 0.0\n",
    "    correct = 0\n",
    "    total = 0\n",
    "    \n",
    "    loss_fn_ce = nn.CrossEntropyLoss()\n",
    "    loss_fn_kd = nn.KLDivLoss(reduction='batchmean')\n",
    "    \n",
    "    for inputs, labels in dataloader:\n",
    "        inputs, labels = inputs.to(device), labels.to(device)\n",
    "        \n",
    "        optimizer.zero_grad()\n",
    "        \n",
    "        # Forward pass\n",
    "        with torch.no_grad():\n",
    "            teacher_outputs = teacher(inputs)\n",
    "        \n",
    "        student_outputs = model(inputs)\n",
    "        \n",
    "        # Compute losses\n",
    "        loss_ce = loss_fn_ce(student_outputs, labels)\n",
    "        loss_kd = loss_fn_kd(\n",
    "            F.log_softmax(student_outputs / T, dim=1),\n",
    "            F.softmax(teacher_outputs / T, dim=1)\n",
    "        ) * (T * T)\n",
    "        \n",
    "        # Combine losses\n",
    "        loss = alpha * loss_ce + (1. - alpha) * loss_kd\n",
    "        \n",
    "        # Backward and optimize\n",
    "        loss.backward()\n",
    "        optimizer.step()\n",
    "        \n",
    "        running_loss += loss.item()\n",
    "        \n",
    "        # Compute accuracy\n",
    "        _, predicted = torch.max(student_outputs, 1)\n",
    "        total += labels.size(0)\n",
    "        correct += (predicted == labels).sum().item()\n",
    "    \n",
    "    loss = running_loss / len(dataloader)\n",
    "    accuracy = 100 * correct / total\n",
    "    return loss, accuracy\n",
    "\n",
    "\n",
    "def train_student(model, teacher, n_epochs, loader=trainloader, temp=100, alpha=0.5):\n",
    "    optimizer = Adam(model.parameters(), lr=0.001)\n",
    "    \n",
    "    for epoch in range(n_epochs):\n",
    "        epoch_loss, epoch_accuracy = distill(model, teacher, loader, optimizer, temp, alpha)\n",
    "        \n",
    "        print(f\"Epoch [{epoch+1}/{n_epochs}], Loss: {epoch_loss:.4f}, Accuracy: {epoch_accuracy:.2f}%\")\n"
   ]
  },
  {
   "cell_type": "markdown",
   "metadata": {
    "id": "80y5gpfCIJjW"
   },
   "source": [
    "This time use a `resnet18` without the pretrained weights."
   ]
  },
  {
   "cell_type": "code",
   "execution_count": 9,
   "metadata": {
    "id": "zhSefyQRwcFK"
   },
   "outputs": [
    {
     "name": "stderr",
     "output_type": "stream",
     "text": [
      "c:\\Users\\Fateme\\Desktop\\spml\\Lib\\site-packages\\torchvision\\models\\_utils.py:208: UserWarning: The parameter 'pretrained' is deprecated since 0.13 and may be removed in the future, please use 'weights' instead.\n",
      "  warnings.warn(\n",
      "c:\\Users\\Fateme\\Desktop\\spml\\Lib\\site-packages\\torchvision\\models\\_utils.py:223: UserWarning: Arguments other than a weight enum or `None` for 'weights' are deprecated since 0.13 and may be removed in the future. The current behavior is equivalent to passing `weights=None`.\n",
      "  warnings.warn(msg)\n"
     ]
    },
    {
     "name": "stdout",
     "output_type": "stream",
     "text": [
      "Epoch [1/15], Loss: 2.7132, Accuracy: 45.46%\n",
      "Epoch [2/15], Loss: 1.8595, Accuracy: 60.24%\n",
      "Epoch [3/15], Loss: 1.5222, Accuracy: 66.20%\n",
      "Epoch [4/15], Loss: 1.3282, Accuracy: 70.12%\n",
      "Epoch [5/15], Loss: 1.1612, Accuracy: 72.92%\n",
      "Epoch [6/15], Loss: 1.0727, Accuracy: 74.82%\n",
      "Epoch [7/15], Loss: 0.9757, Accuracy: 76.68%\n",
      "Epoch [8/15], Loss: 0.9253, Accuracy: 77.67%\n",
      "Epoch [9/15], Loss: 0.8798, Accuracy: 78.65%\n",
      "Epoch [10/15], Loss: 0.8281, Accuracy: 79.77%\n",
      "Epoch [11/15], Loss: 0.7996, Accuracy: 80.25%\n",
      "Epoch [12/15], Loss: 0.7799, Accuracy: 81.02%\n",
      "Epoch [13/15], Loss: 0.7519, Accuracy: 81.55%\n",
      "Epoch [14/15], Loss: 0.7195, Accuracy: 82.05%\n",
      "Epoch [15/15], Loss: 0.6978, Accuracy: 82.76%\n"
     ]
    }
   ],
   "source": [
    "student = resnet18(pretrained=False).to(device)\n",
    "student.fc = nn.Linear(student.fc.in_features, 10).to(device)\n",
    "\n",
    "train_student(student, teacher, 15, temp=100, alpha=0.5)\n"
   ]
  },
  {
   "cell_type": "markdown",
   "metadata": {
    "id": "snQvAMfH4ku1"
   },
   "source": [
    "## Test the student"
   ]
  },
  {
   "cell_type": "code",
   "execution_count": 10,
   "metadata": {
    "id": "D_phh7vc4pA0"
   },
   "outputs": [
    {
     "name": "stdout",
     "output_type": "stream",
     "text": [
      "Student Accuracy 80.13%\n"
     ]
    }
   ],
   "source": [
    "print(f'Student Accuracy {test_clean(student):.2f}%')"
   ]
  },
  {
   "cell_type": "markdown",
   "metadata": {
    "id": "mdUmJKwtw-Gj"
   },
   "source": [
    "# Attack (15 points)"
   ]
  },
  {
   "cell_type": "markdown",
   "metadata": {
    "id": "d_-PnbtU3Zo1"
   },
   "source": [
    "Implement the FGSM attack and the `test_attack` funcion to report the robust accuracy for different values of epsilon."
   ]
  },
  {
   "cell_type": "code",
   "execution_count": 11,
   "metadata": {
    "id": "axKc8-GExDh1"
   },
   "outputs": [],
   "source": [
    "def attack_fgsm(model, x, y, epsilon):\n",
    "    model.eval()\n",
    "    x_adv = x.clone().detach().requires_grad_(True).to(device)\n",
    "    \n",
    "    outputs = model(x_adv)\n",
    "    loss = CrossEntropyLoss()(outputs, y)\n",
    "    \n",
    "    model.zero_grad()\n",
    "    loss.backward()\n",
    "    \n",
    "    data_grad = x_adv.grad.data\n",
    "    sign_data_grad = data_grad.sign()\n",
    "    \n",
    "    perturbed_x = x_adv + epsilon * sign_data_grad\n",
    "    \n",
    "    perturbed_x = torch.max(torch.min(perturbed_x, upper_limit), lower_limit).detach()\n",
    "    \n",
    "    return perturbed_x\n",
    "\n",
    "\n",
    "def attack_pgd(model, x, y, epsilon, alpha=0.2, num_iters=10):\n",
    "    model.eval()\n",
    "    \n",
    "    x_adv = x.clone().detach().to(device)\n",
    "    \n",
    "    for i in range(num_iters):\n",
    "        x_adv.requires_grad = True\n",
    "        \n",
    "        outputs = model(x_adv)\n",
    "        loss = CrossEntropyLoss()(outputs, y)\n",
    "        \n",
    "        model.zero_grad()\n",
    "        loss.backward()\n",
    "        \n",
    "        data_grad = x_adv.grad.data\n",
    "        sign_data_grad = data_grad.sign()\n",
    "        \n",
    "        x_adv = x_adv + alpha * sign_data_grad\n",
    "        \n",
    "        x_adv = torch.clamp(x_adv, x - epsilon, x + epsilon)\n",
    "        \n",
    "        x_adv = torch.max(torch.min(x_adv, upper_limit), lower_limit).detach()\n",
    "    \n",
    "    return x_adv\n",
    "\n",
    "\n",
    "def test_attack(model, epsilon, attack=attack_fgsm, loader=testloader):\n",
    "    model.eval()\n",
    "    correct = 0\n",
    "    total = 0\n",
    "    \n",
    "    for inputs, labels in loader:\n",
    "        inputs, labels = inputs.to(device), labels.to(device)\n",
    "        \n",
    "        perturbed_inputs = attack(model, inputs, labels, epsilon)\n",
    "        \n",
    "        outputs = model(perturbed_inputs)\n",
    "        \n",
    "        _, predicted = torch.max(outputs.data, 1)\n",
    "        \n",
    "        total += labels.size(0)\n",
    "        correct += (predicted == labels).sum().item()\n",
    "    \n",
    "    robust_accuracy = 100 * correct / total\n",
    "    return robust_accuracy\n"
   ]
  },
  {
   "cell_type": "markdown",
   "metadata": {
    "id": "OqUrHA1D1Oqk"
   },
   "source": [
    "Report the robust accuracy of the teacher for `ϵ = [1, 2, 4, 8, 16]`."
   ]
  },
  {
   "cell_type": "code",
   "execution_count": 12,
   "metadata": {
    "id": "1HMqzS21002f"
   },
   "outputs": [
    {
     "name": "stdout",
     "output_type": "stream",
     "text": [
      "Robust Accuracy of the Teacher Model:\n",
      "FGSM with ϵ=1/255 has Accuracy: 79.62%\n",
      "PGD  with ϵ=1/255 has Accuracy: 79.49%\n",
      "FGSM with ϵ=2/255 has Accuracy: 74.06%\n",
      "PGD  with ϵ=2/255 has Accuracy: 73.73%\n",
      "FGSM with ϵ=4/255 has Accuracy: 62.50%\n",
      "PGD  with ϵ=4/255 has Accuracy: 61.00%\n",
      "FGSM with ϵ=8/255 has Accuracy: 42.87%\n",
      "PGD  with ϵ=8/255 has Accuracy: 40.18%\n",
      "FGSM with ϵ=16/255 has Accuracy: 20.84%\n",
      "PGD  with ϵ=16/255 has Accuracy: 18.17%\n"
     ]
    }
   ],
   "source": [
    "epsilons = [1, 2, 4, 8, 16]\n",
    "\n",
    "print(\"Robust Accuracy of the Teacher Model:\")\n",
    "for eps in epsilons:\n",
    "    acc_fgsm = test_attack(teacher, epsilon=eps/255, attack=attack_fgsm, loader=testloader)\n",
    "    print(f'FGSM with ϵ={eps}/255 has Accuracy: {acc_fgsm:.2f}%')\n",
    "    \n",
    "    acc_pgd = test_attack(teacher, epsilon=eps/255, attack=attack_pgd, loader=testloader)\n",
    "    print(f'PGD  with ϵ={eps}/255 has Accuracy: {acc_pgd:.2f}%')\n"
   ]
  },
  {
   "cell_type": "markdown",
   "metadata": {
    "id": "qd0E5Lrf3wyU"
   },
   "source": [
    "Do the same for the student:"
   ]
  },
  {
   "cell_type": "code",
   "execution_count": 13,
   "metadata": {
    "id": "Bn0oMzvk3wZR"
   },
   "outputs": [
    {
     "name": "stdout",
     "output_type": "stream",
     "text": [
      "Robust Accuracy of the Student Model:\n",
      "FGSM with ϵ=1/255 has Accuracy: 75.90%\n",
      "PGD  with ϵ=1/255 has Accuracy: 75.88%\n",
      "FGSM with ϵ=2/255 has Accuracy: 71.18%\n",
      "PGD  with ϵ=2/255 has Accuracy: 70.93%\n",
      "FGSM with ϵ=4/255 has Accuracy: 62.20%\n",
      "PGD  with ϵ=4/255 has Accuracy: 61.20%\n",
      "FGSM with ϵ=8/255 has Accuracy: 46.95%\n",
      "PGD  with ϵ=8/255 has Accuracy: 44.32%\n",
      "FGSM with ϵ=16/255 has Accuracy: 24.88%\n",
      "PGD  with ϵ=16/255 has Accuracy: 20.62%\n"
     ]
    }
   ],
   "source": [
    "epsilons = [1, 2, 4, 8, 16]\n",
    "\n",
    "print(\"Robust Accuracy of the Student Model:\")\n",
    "for eps in epsilons:\n",
    "    acc_fgsm = test_attack(student, epsilon=eps/255, attack=attack_fgsm, loader=testloader)\n",
    "    print(f'FGSM with ϵ={eps}/255 has Accuracy: {acc_fgsm:.2f}%')\n",
    "    \n",
    "    acc_pgd = test_attack(student, epsilon=eps/255, attack=attack_pgd, loader=testloader)\n",
    "    print(f'PGD  with ϵ={eps}/255 has Accuracy: {acc_pgd:.2f}%')\n"
   ]
  },
  {
   "cell_type": "markdown",
   "metadata": {
    "id": "GgHqlsaa33j1"
   },
   "source": [
    "What do you see?\n",
    "\n",
    "---\n",
    "\n",
    "\n",
    "1. **Robustness Trends:**\n",
    "   - Both models show decreased accuracy as perturbation magnitude (`ϵ`) increases, as expected with adversarial attacks.\n",
    "   \n",
    "2. **Teacher vs. Student at Low Perturbations (`ϵ=1/255`, `ϵ=2/255`):**\n",
    "   - Teacher: Higher robust accuracy.\n",
    "   - Student: Slightly less robust but still strong.\n",
    "\n",
    "3. **Medium Perturbation (`ϵ=4/255`):**\n",
    "   - Both models show comparable robustness with minimal accuracy differences.\n",
    "\n",
    "4. **High Perturbations (`ϵ=8/255`, `ϵ=16/255`):**\n",
    "   - Student: More robust, maintaining higher accuracy under stronger attacks.\n",
    "\n",
    "### **Implications**\n",
    "\n",
    "- **Defensive Distillation:** The student model benefits from defensive distillation, becoming more resilient to stronger attacks, though slightly less robust to weaker ones.\n",
    "  \n",
    "- **Trade-Offs:** There's a balance between clean accuracy and robustness. The student may have lower clean accuracy but is more robust at higher perturbation levels, making it better suited for security-sensitive applications.\n",
    "\n",
    "- **Overall Robustness:** Both models are vulnerable to strong adversarial attacks, underlining the challenge in fully securing models.\n",
    "\n",
    "---\n"
   ]
  },
  {
   "cell_type": "code",
   "execution_count": 14,
   "metadata": {},
   "outputs": [
    {
     "data": {
      "image/png": "[encoded data removed]",
      "text/plain": [
       "<Figure size 1000x600 with 1 Axes>"
      ]
     },
     "metadata": {},
     "output_type": "display_data"
    }
   ],
   "source": [
    "import matplotlib.pyplot as plt\n",
    "\n",
    "epsilons = [1, 2, 4, 8, 16]\n",
    "\n",
    "teacher_fgsm = [77.74, 71.97, 61.08, 42.36, 21.34]\n",
    "teacher_pgd = [77.68, 71.49, 59.79, 39.25, 18.49]\n",
    "\n",
    "student_fgsm = [71.13, 67.85, 61.08, 48.62, 29.78]\n",
    "student_pgd = [71.07, 67.70, 60.44, 46.22, 25.46]\n",
    "\n",
    "plt.figure(figsize=(10, 6))\n",
    "plt.plot(epsilons, teacher_fgsm, marker='o', label='Teacher FGSM')\n",
    "plt.plot(epsilons, teacher_pgd, marker='o', label='Teacher PGD')\n",
    "plt.plot(epsilons, student_fgsm, marker='s', label='Student FGSM')\n",
    "plt.plot(epsilons, student_pgd, marker='s', label='Student PGD')\n",
    "\n",
    "plt.title('Robust Accuracy vs Epsilon for Teacher and Student Models')\n",
    "plt.xlabel('Epsilon (ϵ)/255')\n",
    "plt.ylabel('Robust Accuracy (%)')\n",
    "plt.legend()\n",
    "plt.grid(True)\n",
    "plt.xticks(epsilons)\n",
    "plt.show()\n"
   ]
  },
  {
   "cell_type": "markdown",
   "metadata": {
    "id": "zFbxKpeM4AR9"
   },
   "source": [
    "# Transferring Adversarial Examples (15 points)"
   ]
  },
  {
   "cell_type": "markdown",
   "metadata": {
    "id": "T3Vu8xSsLeqN"
   },
   "source": [
    "Train yet another model to be used as the surrogate. (set temperature to 1)"
   ]
  },
  {
   "cell_type": "code",
   "execution_count": 15,
   "metadata": {
    "id": "8qBouBbUKHoI"
   },
   "outputs": [
    {
     "name": "stdout",
     "output_type": "stream",
     "text": [
      "Epoch [1/15], Loss: 1.5526, Accuracy: 43.12%\n",
      "Epoch [2/15], Loss: 1.1924, Accuracy: 57.35%\n",
      "Epoch [3/15], Loss: 1.0214, Accuracy: 63.82%\n",
      "Epoch [4/15], Loss: 0.9133, Accuracy: 67.62%\n",
      "Epoch [5/15], Loss: 0.8353, Accuracy: 70.80%\n",
      "Epoch [6/15], Loss: 0.7770, Accuracy: 72.92%\n",
      "Epoch [7/15], Loss: 0.7352, Accuracy: 74.40%\n",
      "Epoch [8/15], Loss: 0.6915, Accuracy: 75.81%\n",
      "Epoch [9/15], Loss: 0.6558, Accuracy: 77.31%\n",
      "Epoch [10/15], Loss: 0.6208, Accuracy: 78.40%\n",
      "Epoch [11/15], Loss: 0.5970, Accuracy: 79.24%\n",
      "Epoch [12/15], Loss: 0.5831, Accuracy: 79.60%\n",
      "Epoch [13/15], Loss: 0.5570, Accuracy: 80.51%\n",
      "Epoch [14/15], Loss: 0.5352, Accuracy: 81.35%\n",
      "Epoch [15/15], Loss: 0.5177, Accuracy: 82.01%\n"
     ]
    }
   ],
   "source": [
    "model = resnet18(weights=None).to(device)\n",
    "model.fc = nn.Linear(model.fc.in_features, 10).to(device)\n",
    "\n",
    "train_teacher(model, n_epochs=15, temp=1)\n"
   ]
  },
  {
   "cell_type": "markdown",
   "metadata": {
    "id": "3WBJtNiyL8WP"
   },
   "source": [
    "Print the surrogate accuracy."
   ]
  },
  {
   "cell_type": "code",
   "execution_count": 16,
   "metadata": {
    "id": "Jdgr2I-VMCi3"
   },
   "outputs": [
    {
     "name": "stdout",
     "output_type": "stream",
     "text": [
      "Surrogate Accuracy 80.23%\n"
     ]
    }
   ],
   "source": [
    "surrogate_accuracy = test_clean(model)\n",
    "print(f'Surrogate Accuracy {surrogate_accuracy:.2f}%')\n"
   ]
  },
  {
   "cell_type": "markdown",
   "metadata": {
    "id": "YcMBV3o6MC47"
   },
   "source": [
    "Report the accuracy of the surrogate for `ϵ = [1, 2, 4, 8, 16]`."
   ]
  },
  {
   "cell_type": "code",
   "execution_count": 17,
   "metadata": {
    "id": "EALFUBHpMLdA"
   },
   "outputs": [
    {
     "name": "stdout",
     "output_type": "stream",
     "text": [
      "Robust Accuracy of the Surrogate Model:\n",
      "FGSM with ϵ=1/255 has Accuracy: 76.47%\n",
      "PGD  with ϵ=1/255 has Accuracy: 76.46%\n",
      "FGSM with ϵ=2/255 has Accuracy: 72.60%\n",
      "PGD  with ϵ=2/255 has Accuracy: 72.29%\n",
      "FGSM with ϵ=4/255 has Accuracy: 64.32%\n",
      "PGD  with ϵ=4/255 has Accuracy: 63.48%\n",
      "FGSM with ϵ=8/255 has Accuracy: 47.95%\n",
      "PGD  with ϵ=8/255 has Accuracy: 44.92%\n",
      "FGSM with ϵ=16/255 has Accuracy: 25.64%\n",
      "PGD  with ϵ=16/255 has Accuracy: 21.80%\n"
     ]
    }
   ],
   "source": [
    "epsilons = [1, 2, 4, 8, 16]\n",
    "\n",
    "print(\"Robust Accuracy of the Surrogate Model:\")\n",
    "for eps in epsilons:\n",
    "    acc_fgsm = test_attack(model, epsilon=eps/255, attack=attack_fgsm, loader=testloader)\n",
    "    print(f'FGSM with ϵ={eps}/255 has Accuracy: {acc_fgsm:.2f}%')\n",
    "    \n",
    "    acc_pgd = test_attack(model, epsilon=eps/255, attack=attack_pgd, loader=testloader)\n",
    "    print(f'PGD  with ϵ={eps}/255 has Accuracy: {acc_pgd:.2f}%')\n"
   ]
  },
  {
   "cell_type": "markdown",
   "metadata": {
    "id": "buQG6pvgLsAc"
   },
   "source": [
    "Implement the following functions to transfer attacks from a surrogate model to an oracle."
   ]
  },
  {
   "cell_type": "code",
   "execution_count": 18,
   "metadata": {
    "id": "Wu2vy0kY5Rmi"
   },
   "outputs": [],
   "source": [
    "def transfer_attack(oracle, model, eps, loader=testloader):\n",
    "    oracle.eval()\n",
    "    model.eval()\n",
    "    \n",
    "    correct = 0\n",
    "    total = 0\n",
    "    \n",
    "    for inputs, labels in loader:\n",
    "        inputs, labels = inputs.to(device), labels.to(device)\n",
    "        \n",
    "        perturbed_inputs = attack_fgsm(model, inputs, labels, eps)\n",
    "        \n",
    "        outputs = oracle(perturbed_inputs)\n",
    "        _, predicted = torch.max(outputs.data, 1)\n",
    "        \n",
    "        total += labels.size(0)\n",
    "        correct += (predicted == labels).sum().item()\n",
    "    \n",
    "    robust_accuracy = 100 * correct / total\n",
    "    return robust_accuracy\n"
   ]
  },
  {
   "cell_type": "markdown",
   "metadata": {
    "id": "qO24bT2p6oyl"
   },
   "source": [
    "Transfer attacks for `ϵ = [1, 2, 4, 8, 16]` from your model to the student."
   ]
  },
  {
   "cell_type": "code",
   "execution_count": 19,
   "metadata": {
    "id": "Qfcu7QgD6vtW"
   },
   "outputs": [
    {
     "name": "stdout",
     "output_type": "stream",
     "text": [
      "FGSM with ϵ=1/255 has Accuracy: 79.11%\n",
      "FGSM with ϵ=2/255 has Accuracy: 77.99%\n",
      "FGSM with ϵ=4/255 has Accuracy: 75.48%\n",
      "FGSM with ϵ=8/255 has Accuracy: 69.97%\n",
      "FGSM with ϵ=16/255 has Accuracy: 59.33%\n"
     ]
    }
   ],
   "source": [
    "for eps in epsilons:\n",
    "    acc = transfer_attack(student, model, eps/255)\n",
    "    print(f'FGSM with ϵ={eps}/255 has Accuracy: {acc:.2f}%')"
   ]
  },
  {
   "cell_type": "markdown",
   "metadata": {
    "id": "RtGOcOmzPO3G"
   },
   "source": [
    "- What can be inferred from these results?\n",
    "- How are the accuracies of the student and the surrogate under attack related?\n",
    "- Does Defensive Distillation obfuscate the gradients? Why?\n",
    "\n",
    "---\n",
    "\n",
    "### **Answer: Insights from Robust Accuracy Results**\n",
    "\n",
    "1. **Enhanced Robustness through Defensive Distillation:**\n",
    "   - The **student model** shows better resilience to stronger adversarial attacks (e.g., `ϵ=8/255` and `ϵ=16/255`) compared to the teacher model. Even though the student has a slightly lower clean accuracy, its ability to maintain higher accuracy under stronger perturbations suggests that defensive distillation helps improve model robustness against adversarial examples.\n",
    "\n",
    "2. **How are the Accuracies of the Student and Surrogate Related?**\n",
    "   - Both the **student** and **surrogate models** display similar patterns in terms of robust accuracy under FGSM attacks. This means that adversarial examples generated by the surrogate model can also affect the student model. The attacks are transferable, indicating that adversarial examples are still potent even when the student is trained with defensive distillation.\n",
    "\n",
    "3. **Does Defensive Distillation Obfuscate the Gradients?**\n",
    "   - **No, defensive distillation doesn't obfuscate gradients.** The fact that adversarial attacks from the surrogate model are still effective on the student suggests that defensive distillation does **not** hide or distort gradient information. This implies that gradient-based attacks, like FGSM, can still exploit the model effectively.\n",
    "\n",
    "---\n",
    "\n",
    "### **Key Takeaways**\n",
    "\n",
    "- **Defensive Distillation:** While it does improve robustness against strong adversarial attacks, there's a slight loss in clean accuracy.\n",
    "  \n",
    "- **Attack Transferability:** Adversarial examples from the surrogate model are still effective against the student model, meaning defensive distillation doesn't fully protect against gradient-based attacks.\n",
    "  \n",
    "- **Gradient Access:** The fact that attacks transfer easily shows that defensive distillation doesn't obfuscate gradients, keeping them accessible for adversarial attack methods.\n",
    "\n",
    "---\n",
    "\n",
    "These observations suggest that defensive distillation can make models more robust against stronger attacks but doesn't make them immune to gradient-based attacks. More defense techniques might be needed to further protect models.\n",
    "\n",
    "---\n"
   ]
  },
  {
   "cell_type": "markdown",
   "metadata": {
    "id": "aRPjp84p81nn"
   },
   "source": [
    "# ZOO Based Black-Box Attacks (25 points)"
   ]
  },
  {
   "cell_type": "markdown",
   "metadata": {
    "id": "7aaXmYSbQ2W_"
   },
   "source": [
    "Based on [Black-box Adversarial Attacks with Limited Queries and Information](https://arxiv.org/abs/1804.08598) you must first calculate the estimate of the graidents, and next attack the model based on your estimates."
   ]
  },
  {
   "cell_type": "code",
   "execution_count": 20,
   "metadata": {
    "id": "Z6PlkF_A-aDS"
   },
   "outputs": [],
   "source": [
    "def nes_gradient_estimate(model, x, y, epsilon, num_samples, sigma):\n",
    "    model.eval()  \n",
    "    batch_size = x.shape[0]\n",
    "    device = x.device\n",
    "    \n",
    "    grad_estimates = torch.zeros_like(x).to(device)\n",
    "    \n",
    "    for _ in range(num_samples):\n",
    "        noise = torch.randn_like(x).to(device) * sigma\n",
    "        x_pos = torch.clamp(x + noise, lower_limit, upper_limit)\n",
    "        x_neg = torch.clamp(x - noise, lower_limit, upper_limit)\n",
    "        \n",
    "        outputs_pos = model(x_pos)\n",
    "        loss_pos = F.cross_entropy(outputs_pos, y)\n",
    "        \n",
    "        outputs_neg = model(x_neg)\n",
    "        loss_neg = F.cross_entropy(outputs_neg, y)\n",
    "        \n",
    "        loss_diff = (loss_pos - loss_neg) / (2 * sigma)\n",
    "        \n",
    "        grad_estimates += loss_diff * noise\n",
    "    \n",
    "    grad_estimates /= num_samples\n",
    "    \n",
    "    return grad_estimates\n"
   ]
  },
  {
   "cell_type": "code",
   "execution_count": 21,
   "metadata": {
    "id": "yBF7Spoh-nmJ"
   },
   "outputs": [],
   "source": [
    "def partial_information_attack(model, x, y, epsilon, num_samples, sigma, num_steps, alpha):\n",
    "\n",
    "    model.eval()\n",
    "    \n",
    "    adv_x = x.clone().detach().to(device)\n",
    "    \n",
    "    for step in range(num_steps):\n",
    "        grad_est = nes_gradient_estimate(model, adv_x, y, epsilon, num_samples, sigma)\n",
    "        \n",
    "        adv_x = adv_x + alpha * grad_est.sign()\n",
    "        \n",
    "        adv_x = torch.clamp(adv_x, x - epsilon, x + epsilon)\n",
    "        \n",
    "        adv_x = torch.max(torch.min(adv_x, upper_limit), lower_limit).detach()\n",
    "    \n",
    "    return adv_x\n"
   ]
  },
  {
   "cell_type": "markdown",
   "metadata": {
    "id": "Z8XgGVWZRb1P"
   },
   "source": [
    "Now run this attack on your models and report the results. (You **DON'T** need to run the attack for the entire test dataset as this will take a lot of time!)"
   ]
  },
  {
   "cell_type": "code",
   "execution_count": null,
   "metadata": {
    "id": "N94Is59sRq8u"
   },
   "outputs": [
    {
     "name": "stderr",
     "output_type": "stream",
     "text": [
      "ZOO Attack Progress:  25%|██▌       | 1/4 [1:46:26<5:19:19, 6386.62s/it]"
     ]
    }
   ],
   "source": [
    "from torch.utils.data import Subset\n",
    "\n",
    "def run_zoo_attack(oracle, surrogate, epsilon, num_samples, sigma, num_steps, alpha, loader=testloader, subset_size=100):\n",
    "    oracle.eval()\n",
    "    surrogate.eval()\n",
    "    \n",
    "    subset_indices = list(range(subset_size))\n",
    "    subset = Subset(loader.dataset, subset_indices)\n",
    "    subset_loader = DataLoader(subset, batch_size=32, shuffle=False)\n",
    "    \n",
    "    correct = 0\n",
    "    total = 0\n",
    "    \n",
    "    for inputs, labels in tqdm(subset_loader, desc=\"ZOO Attack Progress\"):\n",
    "        inputs, labels = inputs.to(device), labels.to(device)\n",
    "        \n",
    "        adv_inputs = partial_information_attack(\n",
    "            model=surrogate,\n",
    "            x=inputs,\n",
    "            y=labels,\n",
    "            epsilon=epsilon,\n",
    "            num_samples=num_samples,\n",
    "            sigma=sigma,\n",
    "            num_steps=num_steps,\n",
    "            alpha=alpha\n",
    "        )\n",
    "        \n",
    "        with torch.no_grad():\n",
    "            outputs = oracle(adv_inputs)\n",
    "            _, predicted = torch.max(outputs.data, 1)\n",
    "        \n",
    "        total += labels.size(0)\n",
    "        correct += (predicted == labels).sum().item()\n",
    "    \n",
    "    robust_accuracy = 100 * correct / total\n",
    "    return robust_accuracy\n",
    "\n",
    "epsilon = 8/255       \n",
    "num_samples = 100     \n",
    "sigma = 0.01          \n",
    "num_steps = 10        \n",
    "alpha = 0.2           \n",
    "subset_size = 100     \n",
    "\n",
    "robust_accuracy_zoo = run_zoo_attack(\n",
    "    oracle=student,      \n",
    "    surrogate=model,     \n",
    "    epsilon=epsilon,\n",
    "    num_samples=num_samples,\n",
    "    sigma=sigma,\n",
    "    num_steps=num_steps,\n",
    "    alpha=alpha,\n",
    "    loader=testloader,\n",
    "    subset_size=subset_size\n",
    ")\n",
    "\n",
    "print(f'ZOO Attack with ϵ={epsilon*255}/255 on {subset_size} samples has Oracle Accuracy: {robust_accuracy_zoo:.2f}%')\n"
   ]
  },
  {
   "cell_type": "markdown",
   "metadata": {
    "id": "P30qgaIHVFxr"
   },
   "source": [
    "# Adversarially Robust Distillation (15 points)"
   ]
  },
  {
   "cell_type": "markdown",
   "metadata": {
    "id": "QlP5yndiV7Fg"
   },
   "source": [
    "In this section we are going to test another type of distillation to see if this method is robust. This technique is [Adversarially Robust Distillation](https://arxiv.org/abs/1905.09747).\n",
    "\n",
    "\n",
    "\n",
    "1.   We will try to distill a robsut teacher from [Robust Bench](https://robustbench.github.io/) onto a smaller architecture.\n",
    "2.   We minimize the KL-Divergence between the logits of the student and teacher to ensure fidelity. (You can also incorporate the classification loss as mentioned in the paper but you can choose to ignore it as well)\n",
    "3.   At each step of the distillation you will attack the student (you can use either FGSM or PGD) and find an adversarial example $X + \\delta$ for data point $X$. Next you will minimize $t^2 \\times \\text{KL}(S(X+\\delta), T(X))$ where $S$ and $T$ are the student and teacher networks respectively.\n",
    "\n"
   ]
  },
  {
   "cell_type": "code",
   "execution_count": null,
   "metadata": {
    "id": "kOHVJtf0V6NT"
   },
   "outputs": [
    {
     "name": "stdout",
     "output_type": "stream",
     "text": [
      "Collecting git+https://github.com/RobustBench/robustbench.git\n",
      "  Cloning https://github.com/RobustBench/robustbench.git to /tmp/pip-req-build-j7zow56s\n",
      "  Running command git clone --filter=blob:none --quiet https://github.com/RobustBench/robustbench.git /tmp/pip-req-build-j7zow56s\n",
      "  Resolved https://github.com/RobustBench/robustbench.git to commit 776bc95bb4167827fb102a32ac5aea62e46cfaab\n",
      "  Installing build dependencies ... \u001b[?25ldone\n",
      "\u001b[?25h  Getting requirements to build wheel ... \u001b[?25ldone\n",
      "\u001b[?25h  Preparing metadata (pyproject.toml) ... \u001b[?25ldone\n",
      "\u001b[?25hCollecting autoattack@ git+https://github.com/fra31/auto-attack.git@a39220048b3c9f2cca9a4d3a54604793c68eca7e#egg=autoattack (from robustbench==1.1)\n",
      "  Using cached autoattack-0.1-py3-none-any.whl\n",
      "Requirement already satisfied: torch>=1.7.1 in /home/fateme/SPML/.venv/lib/python3.8/site-packages (from robustbench==1.1) (2.4.1)\n",
      "Requirement already satisfied: torchvision>=0.8.2 in /home/fateme/SPML/.venv/lib/python3.8/site-packages (from robustbench==1.1) (0.19.1)\n",
      "Requirement already satisfied: torchdiffeq in /home/fateme/SPML/.venv/lib/python3.8/site-packages (from robustbench==1.1) (0.2.5)\n",
      "Requirement already satisfied: geotorch in /home/fateme/SPML/.venv/lib/python3.8/site-packages (from robustbench==1.1) (0.3.0)\n",
      "Requirement already satisfied: requests>=2.25.0 in /home/fateme/SPML/.venv/lib/python3.8/site-packages (from robustbench==1.1) (2.32.3)\n",
      "Requirement already satisfied: numpy>=1.19.4 in /home/fateme/SPML/.venv/lib/python3.8/site-packages (from robustbench==1.1) (1.24.4)\n",
      "Requirement already satisfied: Jinja2~=3.1.2 in /home/fateme/SPML/.venv/lib/python3.8/site-packages (from robustbench==1.1) (3.1.4)\n",
      "Requirement already satisfied: tqdm>=4.56.1 in /home/fateme/SPML/.venv/lib/python3.8/site-packages (from robustbench==1.1) (4.67.1)\n",
      "Requirement already satisfied: pandas>=1.3.5 in /home/fateme/SPML/.venv/lib/python3.8/site-packages (from robustbench==1.1) (2.0.3)\n",
      "Requirement already satisfied: timm>=0.9.0 in /home/fateme/SPML/.venv/lib/python3.8/site-packages (from robustbench==1.1) (1.0.11)\n",
      "Requirement already satisfied: gdown==5.1.0 in /home/fateme/SPML/.venv/lib/python3.8/site-packages (from robustbench==1.1) (5.1.0)\n",
      "Requirement already satisfied: pyyaml in /home/fateme/SPML/.venv/lib/python3.8/site-packages (from robustbench==1.1) (6.0.2)\n",
      "Requirement already satisfied: beautifulsoup4 in /home/fateme/SPML/.venv/lib/python3.8/site-packages (from gdown==5.1.0->robustbench==1.1) (4.12.3)\n",
      "Requirement already satisfied: filelock in /home/fateme/SPML/.venv/lib/python3.8/site-packages (from gdown==5.1.0->robustbench==1.1) (3.16.1)\n",
      "Requirement already satisfied: MarkupSafe>=2.0 in /home/fateme/SPML/.venv/lib/python3.8/site-packages (from Jinja2~=3.1.2->robustbench==1.1) (2.1.5)\n",
      "Requirement already satisfied: python-dateutil>=2.8.2 in /home/fateme/SPML/.venv/lib/python3.8/site-packages (from pandas>=1.3.5->robustbench==1.1) (2.9.0.post0)\n",
      "Requirement already satisfied: pytz>=2020.1 in /home/fateme/SPML/.venv/lib/python3.8/site-packages (from pandas>=1.3.5->robustbench==1.1) (2024.2)\n",
      "Requirement already satisfied: tzdata>=2022.1 in /home/fateme/SPML/.venv/lib/python3.8/site-packages (from pandas>=1.3.5->robustbench==1.1) (2024.2)\n",
      "Requirement already satisfied: charset-normalizer<4,>=2 in /home/fateme/SPML/.venv/lib/python3.8/site-packages (from requests>=2.25.0->robustbench==1.1) (3.4.0)\n",
      "Requirement already satisfied: idna<4,>=2.5 in /home/fateme/SPML/.venv/lib/python3.8/site-packages (from requests>=2.25.0->robustbench==1.1) (3.10)\n",
      "Requirement already satisfied: urllib3<3,>=1.21.1 in /home/fateme/SPML/.venv/lib/python3.8/site-packages (from requests>=2.25.0->robustbench==1.1) (2.2.3)\n",
      "Requirement already satisfied: certifi>=2017.4.17 in /home/fateme/SPML/.venv/lib/python3.8/site-packages (from requests>=2.25.0->robustbench==1.1) (2024.8.30)\n",
      "Requirement already satisfied: huggingface_hub in /home/fateme/SPML/.venv/lib/python3.8/site-packages (from timm>=0.9.0->robustbench==1.1) (0.26.3)\n",
      "Requirement already satisfied: safetensors in /home/fateme/SPML/.venv/lib/python3.8/site-packages (from timm>=0.9.0->robustbench==1.1) (0.4.5)\n",
      "Requirement already satisfied: typing-extensions>=4.8.0 in /home/fateme/SPML/.venv/lib/python3.8/site-packages (from torch>=1.7.1->robustbench==1.1) (4.12.2)\n",
      "Requirement already satisfied: sympy in /home/fateme/SPML/.venv/lib/python3.8/site-packages (from torch>=1.7.1->robustbench==1.1) (1.13.3)\n",
      "Requirement already satisfied: networkx in /home/fateme/SPML/.venv/lib/python3.8/site-packages (from torch>=1.7.1->robustbench==1.1) (3.1)\n",
      "Requirement already satisfied: fsspec in /home/fateme/SPML/.venv/lib/python3.8/site-packages (from torch>=1.7.1->robustbench==1.1) (2024.10.0)\n",
      "Requirement already satisfied: nvidia-cuda-nvrtc-cu12==12.1.105 in /home/fateme/SPML/.venv/lib/python3.8/site-packages (from torch>=1.7.1->robustbench==1.1) (12.1.105)\n",
      "Requirement already satisfied: nvidia-cuda-runtime-cu12==12.1.105 in /home/fateme/SPML/.venv/lib/python3.8/site-packages (from torch>=1.7.1->robustbench==1.1) (12.1.105)\n",
      "Requirement already satisfied: nvidia-cuda-cupti-cu12==12.1.105 in /home/fateme/SPML/.venv/lib/python3.8/site-packages (from torch>=1.7.1->robustbench==1.1) (12.1.105)\n",
      "Requirement already satisfied: nvidia-cudnn-cu12==9.1.0.70 in /home/fateme/SPML/.venv/lib/python3.8/site-packages (from torch>=1.7.1->robustbench==1.1) (9.1.0.70)\n",
      "Requirement already satisfied: nvidia-cublas-cu12==12.1.3.1 in /home/fateme/SPML/.venv/lib/python3.8/site-packages (from torch>=1.7.1->robustbench==1.1) (12.1.3.1)\n",
      "Requirement already satisfied: nvidia-cufft-cu12==11.0.2.54 in /home/fateme/SPML/.venv/lib/python3.8/site-packages (from torch>=1.7.1->robustbench==1.1) (11.0.2.54)\n",
      "Requirement already satisfied: nvidia-curand-cu12==10.3.2.106 in /home/fateme/SPML/.venv/lib/python3.8/site-packages (from torch>=1.7.1->robustbench==1.1) (10.3.2.106)\n",
      "Requirement already satisfied: nvidia-cusolver-cu12==11.4.5.107 in /home/fateme/SPML/.venv/lib/python3.8/site-packages (from torch>=1.7.1->robustbench==1.1) (11.4.5.107)\n",
      "Requirement already satisfied: nvidia-cusparse-cu12==12.1.0.106 in /home/fateme/SPML/.venv/lib/python3.8/site-packages (from torch>=1.7.1->robustbench==1.1) (12.1.0.106)\n",
      "Requirement already satisfied: nvidia-nccl-cu12==2.20.5 in /home/fateme/SPML/.venv/lib/python3.8/site-packages (from torch>=1.7.1->robustbench==1.1) (2.20.5)\n",
      "Requirement already satisfied: nvidia-nvtx-cu12==12.1.105 in /home/fateme/SPML/.venv/lib/python3.8/site-packages (from torch>=1.7.1->robustbench==1.1) (12.1.105)\n",
      "Requirement already satisfied: triton==3.0.0 in /home/fateme/SPML/.venv/lib/python3.8/site-packages (from torch>=1.7.1->robustbench==1.1) (3.0.0)\n",
      "Requirement already satisfied: nvidia-nvjitlink-cu12 in /home/fateme/SPML/.venv/lib/python3.8/site-packages (from nvidia-cusolver-cu12==11.4.5.107->torch>=1.7.1->robustbench==1.1) (12.6.85)\n",
      "Requirement already satisfied: pillow!=8.3.*,>=5.3.0 in /home/fateme/SPML/.venv/lib/python3.8/site-packages (from torchvision>=0.8.2->robustbench==1.1) (10.4.0)\n",
      "Requirement already satisfied: scipy>=1.4.0 in /home/fateme/SPML/.venv/lib/python3.8/site-packages (from torchdiffeq->robustbench==1.1) (1.10.1)\n",
      "Requirement already satisfied: six>=1.5 in /home/fateme/SPML/.venv/lib/python3.8/site-packages (from python-dateutil>=2.8.2->pandas>=1.3.5->robustbench==1.1) (1.16.0)\n",
      "Requirement already satisfied: soupsieve>1.2 in /home/fateme/SPML/.venv/lib/python3.8/site-packages (from beautifulsoup4->gdown==5.1.0->robustbench==1.1) (2.6)\n",
      "Requirement already satisfied: packaging>=20.9 in /home/fateme/SPML/.venv/lib/python3.8/site-packages (from huggingface_hub->timm>=0.9.0->robustbench==1.1) (24.2)\n",
      "Requirement already satisfied: PySocks!=1.5.7,>=1.5.6 in /home/fateme/SPML/.venv/lib/python3.8/site-packages (from requests[socks]->gdown==5.1.0->robustbench==1.1) (1.7.1)\n",
      "Requirement already satisfied: mpmath<1.4,>=1.1.0 in /home/fateme/SPML/.venv/lib/python3.8/site-packages (from sympy->torch>=1.7.1->robustbench==1.1) (1.3.0)\n"
     ]
    }
   ],
   "source": [
    "! pip install git+https://github.com/RobustBench/robustbench.git"
   ]
  },
  {
   "cell_type": "code",
   "execution_count": null,
   "metadata": {
    "id": "nD9wjBojWz_T"
   },
   "outputs": [
    {
     "ename": "TypeError",
     "evalue": "'type' object is not subscriptable",
     "output_type": "error",
     "traceback": [
      "\u001b[0;31m---------------------------------------------------------------------------\u001b[0m",
      "\u001b[0;31mTypeError\u001b[0m                                 Traceback (most recent call last)",
      "Cell \u001b[0;32mIn[55], line 1\u001b[0m\n\u001b[0;32m----> 1\u001b[0m \u001b[38;5;28;01mfrom\u001b[39;00m \u001b[38;5;21;01mrobustbench\u001b[39;00m\u001b[38;5;21;01m.\u001b[39;00m\u001b[38;5;21;01mutils\u001b[39;00m \u001b[38;5;28;01mimport\u001b[39;00m load_model\n\u001b[1;32m      3\u001b[0m \u001b[38;5;66;03m# Load Madry's VGG19 model\u001b[39;00m\n\u001b[1;32m      4\u001b[0m teacher \u001b[38;5;241m=\u001b[39m load_model(model_name\u001b[38;5;241m=\u001b[39m\u001b[38;5;124m'\u001b[39m\u001b[38;5;124mMadry2017_vgg19\u001b[39m\u001b[38;5;124m'\u001b[39m, dataset\u001b[38;5;241m=\u001b[39m\u001b[38;5;124m'\u001b[39m\u001b[38;5;124mcifar10\u001b[39m\u001b[38;5;124m'\u001b[39m, threat_model\u001b[38;5;241m=\u001b[39m\u001b[38;5;124m'\u001b[39m\u001b[38;5;124mLinf\u001b[39m\u001b[38;5;124m'\u001b[39m)\n",
      "File \u001b[0;32m~/SPML/.venv/lib/python3.8/site-packages/robustbench/__init__.py:1\u001b[0m\n\u001b[0;32m----> 1\u001b[0m \u001b[38;5;28;01mfrom\u001b[39;00m \u001b[38;5;21;01m.\u001b[39;00m\u001b[38;5;21;01mdata\u001b[39;00m \u001b[38;5;28;01mimport\u001b[39;00m load_cifar10\n\u001b[1;32m      2\u001b[0m \u001b[38;5;28;01mfrom\u001b[39;00m \u001b[38;5;21;01m.\u001b[39;00m\u001b[38;5;21;01mutils\u001b[39;00m \u001b[38;5;28;01mimport\u001b[39;00m load_model\n\u001b[1;32m      3\u001b[0m \u001b[38;5;28;01mfrom\u001b[39;00m \u001b[38;5;21;01m.\u001b[39;00m\u001b[38;5;21;01meval\u001b[39;00m \u001b[38;5;28;01mimport\u001b[39;00m benchmark\n",
      "File \u001b[0;32m~/SPML/.venv/lib/python3.8/site-packages/robustbench/data.py:15\u001b[0m\n\u001b[1;32m     12\u001b[0m \u001b[38;5;28;01mfrom\u001b[39;00m \u001b[38;5;21;01mtorch\u001b[39;00m\u001b[38;5;21;01m.\u001b[39;00m\u001b[38;5;21;01mutils\u001b[39;00m\u001b[38;5;21;01m.\u001b[39;00m\u001b[38;5;21;01mdata\u001b[39;00m \u001b[38;5;28;01mimport\u001b[39;00m Dataset\n\u001b[1;32m     13\u001b[0m \u001b[38;5;28;01mfrom\u001b[39;00m \u001b[38;5;21;01mtorch\u001b[39;00m \u001b[38;5;28;01mimport\u001b[39;00m nn\n\u001b[0;32m---> 15\u001b[0m \u001b[38;5;28;01mfrom\u001b[39;00m \u001b[38;5;21;01mrobustbench\u001b[39;00m\u001b[38;5;21;01m.\u001b[39;00m\u001b[38;5;21;01mmodel_zoo\u001b[39;00m \u001b[38;5;28;01mimport\u001b[39;00m model_dicts \u001b[38;5;28;01mas\u001b[39;00m all_models\n\u001b[1;32m     16\u001b[0m \u001b[38;5;28;01mfrom\u001b[39;00m \u001b[38;5;21;01mrobustbench\u001b[39;00m\u001b[38;5;21;01m.\u001b[39;00m\u001b[38;5;21;01mmodel_zoo\u001b[39;00m\u001b[38;5;21;01m.\u001b[39;00m\u001b[38;5;21;01menums\u001b[39;00m \u001b[38;5;28;01mimport\u001b[39;00m BenchmarkDataset, ThreatModel\n\u001b[1;32m     17\u001b[0m \u001b[38;5;28;01mfrom\u001b[39;00m \u001b[38;5;21;01mrobustbench\u001b[39;00m\u001b[38;5;21;01m.\u001b[39;00m\u001b[38;5;21;01mzenodo_download\u001b[39;00m \u001b[38;5;28;01mimport\u001b[39;00m DownloadError, zenodo_download\n",
      "File \u001b[0;32m~/SPML/.venv/lib/python3.8/site-packages/robustbench/model_zoo/__init__.py:1\u001b[0m\n\u001b[0;32m----> 1\u001b[0m \u001b[38;5;28;01mfrom\u001b[39;00m \u001b[38;5;21;01m.\u001b[39;00m\u001b[38;5;21;01mmodels\u001b[39;00m \u001b[38;5;28;01mimport\u001b[39;00m model_dicts\n",
      "File \u001b[0;32m~/SPML/.venv/lib/python3.8/site-packages/robustbench/model_zoo/models.py:4\u001b[0m\n\u001b[1;32m      1\u001b[0m \u001b[38;5;28;01mfrom\u001b[39;00m \u001b[38;5;21;01mcollections\u001b[39;00m \u001b[38;5;28;01mimport\u001b[39;00m OrderedDict\n\u001b[1;32m      2\u001b[0m \u001b[38;5;28;01mfrom\u001b[39;00m \u001b[38;5;21;01mtyping\u001b[39;00m \u001b[38;5;28;01mimport\u001b[39;00m Any, Dict, Dict \u001b[38;5;28;01mas\u001b[39;00m OrderedDictType\n\u001b[0;32m----> 4\u001b[0m \u001b[38;5;28;01mfrom\u001b[39;00m \u001b[38;5;21;01mrobustbench\u001b[39;00m\u001b[38;5;21;01m.\u001b[39;00m\u001b[38;5;21;01mmodel_zoo\u001b[39;00m\u001b[38;5;21;01m.\u001b[39;00m\u001b[38;5;21;01mcifar10\u001b[39;00m \u001b[38;5;28;01mimport\u001b[39;00m cifar_10_models\n\u001b[1;32m      5\u001b[0m \u001b[38;5;28;01mfrom\u001b[39;00m \u001b[38;5;21;01mrobustbench\u001b[39;00m\u001b[38;5;21;01m.\u001b[39;00m\u001b[38;5;21;01mmodel_zoo\u001b[39;00m\u001b[38;5;21;01m.\u001b[39;00m\u001b[38;5;21;01mcifar100\u001b[39;00m \u001b[38;5;28;01mimport\u001b[39;00m cifar_100_models\n\u001b[1;32m      6\u001b[0m \u001b[38;5;28;01mfrom\u001b[39;00m \u001b[38;5;21;01mrobustbench\u001b[39;00m\u001b[38;5;21;01m.\u001b[39;00m\u001b[38;5;21;01mmodel_zoo\u001b[39;00m\u001b[38;5;21;01m.\u001b[39;00m\u001b[38;5;21;01mimagenet\u001b[39;00m \u001b[38;5;28;01mimport\u001b[39;00m imagenet_models\n",
      "File \u001b[0;32m~/SPML/.venv/lib/python3.8/site-packages/robustbench/model_zoo/cifar10.py:23\u001b[0m\n\u001b[1;32m     21\u001b[0m \u001b[38;5;28;01mfrom\u001b[39;00m \u001b[38;5;21;01mrobustbench\u001b[39;00m\u001b[38;5;21;01m.\u001b[39;00m\u001b[38;5;21;01mmodel_zoo\u001b[39;00m\u001b[38;5;21;01m.\u001b[39;00m\u001b[38;5;21;01marchitectures\u001b[39;00m \u001b[38;5;28;01mimport\u001b[39;00m xcit\n\u001b[1;32m     22\u001b[0m \u001b[38;5;28;01mfrom\u001b[39;00m \u001b[38;5;21;01mrobustbench\u001b[39;00m\u001b[38;5;21;01m.\u001b[39;00m\u001b[38;5;21;01mmodel_zoo\u001b[39;00m\u001b[38;5;21;01m.\u001b[39;00m\u001b[38;5;21;01marchitectures\u001b[39;00m \u001b[38;5;28;01mimport\u001b[39;00m robust_resnet\n\u001b[0;32m---> 23\u001b[0m \u001b[38;5;28;01mfrom\u001b[39;00m \u001b[38;5;21;01mrobustbench\u001b[39;00m\u001b[38;5;21;01m.\u001b[39;00m\u001b[38;5;21;01mmodel_zoo\u001b[39;00m\u001b[38;5;21;01m.\u001b[39;00m\u001b[38;5;21;01marchitectures\u001b[39;00m\u001b[38;5;21;01m.\u001b[39;00m\u001b[38;5;21;01mcomp_model\u001b[39;00m \u001b[38;5;28;01mimport\u001b[39;00m get_composite_model, \\\n\u001b[1;32m     24\u001b[0m     get_nonlin_mixed_classifier\n\u001b[1;32m     25\u001b[0m \u001b[38;5;28;01mfrom\u001b[39;00m \u001b[38;5;21;01mrobustbench\u001b[39;00m\u001b[38;5;21;01m.\u001b[39;00m\u001b[38;5;21;01mmodel_zoo\u001b[39;00m\u001b[38;5;21;01m.\u001b[39;00m\u001b[38;5;21;01marchitectures\u001b[39;00m\u001b[38;5;21;01m.\u001b[39;00m\u001b[38;5;21;01mrobustarch_wide_resnet\u001b[39;00m \u001b[38;5;28;01mimport\u001b[39;00m get_model \u001b[38;5;28;01mas\u001b[39;00m get_robustarch_model\n\u001b[1;32m     26\u001b[0m \u001b[38;5;28;01mfrom\u001b[39;00m \u001b[38;5;21;01mrobustbench\u001b[39;00m\u001b[38;5;21;01m.\u001b[39;00m\u001b[38;5;21;01mmodel_zoo\u001b[39;00m\u001b[38;5;21;01m.\u001b[39;00m\u001b[38;5;21;01marchitectures\u001b[39;00m\u001b[38;5;21;01m.\u001b[39;00m\u001b[38;5;21;01msparsified_model\u001b[39;00m \u001b[38;5;28;01mimport\u001b[39;00m get_sparse_model\n",
      "File \u001b[0;32m~/SPML/.venv/lib/python3.8/site-packages/robustbench/model_zoo/architectures/comp_model.py:15\u001b[0m\n\u001b[1;32m     13\u001b[0m \u001b[38;5;28;01mfrom\u001b[39;00m \u001b[38;5;21;01mrobustbench\u001b[39;00m\u001b[38;5;21;01m.\u001b[39;00m\u001b[38;5;21;01mmodel_zoo\u001b[39;00m\u001b[38;5;21;01m.\u001b[39;00m\u001b[38;5;21;01marchitectures\u001b[39;00m \u001b[38;5;28;01mimport\u001b[39;00m bit_rn, dm_rn, bit_rn_v2, convnext_v2\n\u001b[1;32m     14\u001b[0m \u001b[38;5;28;01mfrom\u001b[39;00m \u001b[38;5;21;01mrobustbench\u001b[39;00m\u001b[38;5;21;01m.\u001b[39;00m\u001b[38;5;21;01mmodel_zoo\u001b[39;00m\u001b[38;5;21;01m.\u001b[39;00m\u001b[38;5;21;01marchitectures\u001b[39;00m\u001b[38;5;21;01m.\u001b[39;00m\u001b[38;5;21;01moutput_maps\u001b[39;00m \u001b[38;5;28;01mimport\u001b[39;00m HardMaxMap, LNClampPowerScaleMap\n\u001b[0;32m---> 15\u001b[0m \u001b[38;5;28;01mfrom\u001b[39;00m \u001b[38;5;21;01mrobustbench\u001b[39;00m\u001b[38;5;21;01m.\u001b[39;00m\u001b[38;5;21;01mmodel_zoo\u001b[39;00m\u001b[38;5;21;01m.\u001b[39;00m\u001b[38;5;21;01marchitectures\u001b[39;00m\u001b[38;5;21;01m.\u001b[39;00m\u001b[38;5;21;01mrobustarch_wide_resnet\u001b[39;00m \u001b[38;5;28;01mimport\u001b[39;00m get_model \u001b[38;5;28;01mas\u001b[39;00m get_robustarch_model\n\u001b[1;32m     16\u001b[0m \u001b[38;5;28;01mfrom\u001b[39;00m \u001b[38;5;21;01mrobustbench\u001b[39;00m\u001b[38;5;21;01m.\u001b[39;00m\u001b[38;5;21;01mmodel_zoo\u001b[39;00m\u001b[38;5;21;01m.\u001b[39;00m\u001b[38;5;21;01marchitectures\u001b[39;00m\u001b[38;5;21;01m.\u001b[39;00m\u001b[38;5;21;01mdm_wide_resnet\u001b[39;00m \u001b[38;5;28;01mimport\u001b[39;00m CIFAR100_MEAN, CIFAR100_STD, \\\n\u001b[1;32m     17\u001b[0m     DMWideResNet\n\u001b[1;32m     18\u001b[0m \u001b[38;5;28;01mfrom\u001b[39;00m \u001b[38;5;21;01mrobustbench\u001b[39;00m\u001b[38;5;21;01m.\u001b[39;00m\u001b[38;5;21;01mmodel_zoo\u001b[39;00m\u001b[38;5;21;01m.\u001b[39;00m\u001b[38;5;21;01marchitectures\u001b[39;00m\u001b[38;5;21;01m.\u001b[39;00m\u001b[38;5;21;01mutils_architectures\u001b[39;00m \u001b[38;5;28;01mimport\u001b[39;00m normalize_model\n",
      "File \u001b[0;32m~/SPML/.venv/lib/python3.8/site-packages/robustbench/model_zoo/architectures/robustarch_wide_resnet.py:352\u001b[0m\n\u001b[1;32m    322\u001b[0m     \u001b[38;5;28;01mdef\u001b[39;00m \u001b[38;5;21m__init__\u001b[39m(\n\u001b[1;32m    323\u001b[0m         \u001b[38;5;28mself\u001b[39m,\n\u001b[1;32m    324\u001b[0m         in_channels: \u001b[38;5;28mint\u001b[39m,\n\u001b[0;32m   (...)\u001b[0m\n\u001b[1;32m    334\u001b[0m         bias: Optional[\u001b[38;5;28mbool\u001b[39m] \u001b[38;5;241m=\u001b[39m \u001b[38;5;28;01mNone\u001b[39;00m,\n\u001b[1;32m    335\u001b[0m     ) \u001b[38;5;241m-\u001b[39m\u001b[38;5;241m>\u001b[39m \u001b[38;5;28;01mNone\u001b[39;00m:\n\u001b[1;32m    336\u001b[0m         \u001b[38;5;28msuper\u001b[39m()\u001b[38;5;241m.\u001b[39m\u001b[38;5;21m__init__\u001b[39m(\n\u001b[1;32m    337\u001b[0m             in_channels,\n\u001b[1;32m    338\u001b[0m             out_channels,\n\u001b[0;32m   (...)\u001b[0m\n\u001b[1;32m    348\u001b[0m             torch\u001b[38;5;241m.\u001b[39mnn\u001b[38;5;241m.\u001b[39mConv2d,\n\u001b[1;32m    349\u001b[0m         )\n\u001b[0;32m--> 352\u001b[0m \u001b[38;5;28;01mclass\u001b[39;00m \u001b[38;5;21;01mBottleneckTransform\u001b[39;00m(nn\u001b[38;5;241m.\u001b[39mSequential):\n\u001b[1;32m    353\u001b[0m     \u001b[38;5;124m\"\u001b[39m\u001b[38;5;124mTransformation in a Bottleneck: 1x1, kxk (k=3, 5, 7, ...) [+SE], 1x1\u001b[39m\u001b[38;5;124m\"\u001b[39m\n\u001b[1;32m    354\u001b[0m     \u001b[38;5;124m\"\u001b[39m\u001b[38;5;124mSupported archs: [preact] [norm func+num] [act func+num] [conv kernel]\u001b[39m\u001b[38;5;124m\"\u001b[39m\n",
      "File \u001b[0;32m~/SPML/.venv/lib/python3.8/site-packages/robustbench/model_zoo/architectures/robustarch_wide_resnet.py:363\u001b[0m, in \u001b[0;36mBottleneckTransform\u001b[0;34m()\u001b[0m\n\u001b[1;32m    353\u001b[0m \u001b[38;5;124m\"\u001b[39m\u001b[38;5;124mTransformation in a Bottleneck: 1x1, kxk (k=3, 5, 7, ...) [+SE], 1x1\u001b[39m\u001b[38;5;124m\"\u001b[39m\n\u001b[1;32m    354\u001b[0m \u001b[38;5;124m\"\u001b[39m\u001b[38;5;124mSupported archs: [preact] [norm func+num] [act func+num] [conv kernel]\u001b[39m\u001b[38;5;124m\"\u001b[39m\n\u001b[1;32m    356\u001b[0m \u001b[38;5;28;01mdef\u001b[39;00m \u001b[38;5;21m__init__\u001b[39m(\n\u001b[1;32m    357\u001b[0m     \u001b[38;5;28mself\u001b[39m,\n\u001b[1;32m    358\u001b[0m     width_in: \u001b[38;5;28mint\u001b[39m,\n\u001b[1;32m    359\u001b[0m     width_out: \u001b[38;5;28mint\u001b[39m,\n\u001b[1;32m    360\u001b[0m     kernel: \u001b[38;5;28mint\u001b[39m,\n\u001b[1;32m    361\u001b[0m     stride: \u001b[38;5;28mint\u001b[39m,\n\u001b[1;32m    362\u001b[0m     dilation: \u001b[38;5;28mint\u001b[39m,\n\u001b[0;32m--> 363\u001b[0m     norm_layer: \u001b[38;5;28;43mlist\u001b[39;49m\u001b[43m[\u001b[49m\u001b[43mCallable\u001b[49m\u001b[43m[\u001b[49m\u001b[38;5;241;43m.\u001b[39;49m\u001b[38;5;241;43m.\u001b[39;49m\u001b[38;5;241;43m.\u001b[39;49m\u001b[43m,\u001b[49m\u001b[43m \u001b[49m\u001b[43mnn\u001b[49m\u001b[38;5;241;43m.\u001b[39;49m\u001b[43mModule\u001b[49m\u001b[43m]\u001b[49m\u001b[43m]\u001b[49m,\n\u001b[1;32m    364\u001b[0m     activation_layer: \u001b[38;5;28mlist\u001b[39m[Callable[\u001b[38;5;241m.\u001b[39m\u001b[38;5;241m.\u001b[39m\u001b[38;5;241m.\u001b[39m, nn\u001b[38;5;241m.\u001b[39mModule]],\n\u001b[1;32m    365\u001b[0m     group_width: \u001b[38;5;28mint\u001b[39m,\n\u001b[1;32m    366\u001b[0m     bottleneck_multiplier: \u001b[38;5;28mfloat\u001b[39m,\n\u001b[1;32m    367\u001b[0m     se_ratio: Optional[\u001b[38;5;28mfloat\u001b[39m],\n\u001b[1;32m    368\u001b[0m     se_activation: Optional[Callable[\u001b[38;5;241m.\u001b[39m\u001b[38;5;241m.\u001b[39m\u001b[38;5;241m.\u001b[39m, nn\u001b[38;5;241m.\u001b[39mModule]],\n\u001b[1;32m    369\u001b[0m     ConvBlock: Callable[\u001b[38;5;241m.\u001b[39m\u001b[38;5;241m.\u001b[39m\u001b[38;5;241m.\u001b[39m, nn\u001b[38;5;241m.\u001b[39mModule],\n\u001b[1;32m    370\u001b[0m ):\n\u001b[1;32m    371\u001b[0m     \u001b[38;5;66;03m# compute transform params\u001b[39;00m\n\u001b[1;32m    372\u001b[0m     w_b \u001b[38;5;241m=\u001b[39m \u001b[38;5;28mint\u001b[39m(\n\u001b[1;32m    373\u001b[0m         \u001b[38;5;28mround\u001b[39m(width_out \u001b[38;5;241m*\u001b[39m bottleneck_multiplier)\n\u001b[1;32m    374\u001b[0m     )  \u001b[38;5;66;03m# bottleneck_multiplier > 1 for inverted bottleneck\u001b[39;00m\n\u001b[1;32m    375\u001b[0m     g \u001b[38;5;241m=\u001b[39m w_b \u001b[38;5;241m/\u001b[39m\u001b[38;5;241m/\u001b[39m group_width\n",
      "\u001b[0;31mTypeError\u001b[0m: 'type' object is not subscriptable"
     ]
    }
   ],
   "source": [
    "from robustbench.utils import load_model\n",
    "\n",
    "teacher = load_model(model_name='Gowal2021Improving_R18_ddpm_100m', dataset='cifar10', threat_model='Linf')"
   ]
  },
  {
   "cell_type": "code",
   "execution_count": null,
   "metadata": {
    "id": "FLGDeE1YY6uO"
   },
   "outputs": [],
   "source": [
    "def ard(student, teacher, dataloader, optimizer, eps, attack):\n",
    "    student.train()\n",
    "    teacher.eval()\n",
    "    running_loss = 0.0\n",
    "    correct = 0\n",
    "    total = 0\n",
    "    \n",
    "    loss_fn = nn.KLDivLoss(reduction='batchmean')\n",
    "    \n",
    "    for inputs, labels in dataloader:\n",
    "        inputs, labels = inputs.to(device), labels.to(device)\n",
    "        \n",
    "        optimizer.zero_grad()\n",
    "        \n",
    "        adv_inputs = attack(student, inputs, labels, eps)\n",
    "        \n",
    "        with torch.no_grad():\n",
    "            teacher_outputs = teacher(inputs) \n",
    "        student_outputs = student(adv_inputs) \n",
    "        \n",
    "        soft_labels = F.log_softmax(student_outputs, dim=1)\n",
    "        teacher_soft = F.softmax(teacher_outputs, dim=1)\n",
    "        \n",
    "        loss = loss_fn(soft_labels, teacher_soft)\n",
    "        \n",
    "        loss.backward()\n",
    "        optimizer.step()\n",
    "        \n",
    "        running_loss += loss.item()\n",
    "        \n",
    "        _, predicted = torch.max(student_outputs, 1)\n",
    "        total += labels.size(0)\n",
    "        correct += (predicted == labels).sum().item()\n",
    "    \n",
    "    avg_loss = running_loss / len(dataloader)\n",
    "    avg_accuracy = 100 * correct / total\n",
    "    return avg_loss, avg_accuracy\n",
    "\n",
    "def adv_train_student(model, teacher, n_epochs, eps=8/255, loader=trainloader):\n",
    "    optimizer = Adam(model.parameters(), lr=0.001)\n",
    "    \n",
    "    for epoch in range(n_epochs):\n",
    "        epoch_loss, epoch_accuracy = ard(model, teacher, loader, optimizer, eps, attack=attack_fgsm)\n",
    "        \n",
    "        print(f\"Epoch [{epoch+1}/{n_epochs}], Loss: {epoch_loss:.4f}, Accuracy: {epoch_accuracy:.2f}%\")\n"
   ]
  },
  {
   "cell_type": "code",
   "execution_count": null,
   "metadata": {
    "id": "eAEyoDc-ZUtr"
   },
   "outputs": [
    {
     "name": "stdout",
     "output_type": "stream",
     "text": [
      "Epoch [1/15], Loss: 1.9442, Accuracy: 9.89%\n",
      "Epoch [2/15], Loss: 1.9430, Accuracy: 10.02%\n",
      "Epoch [3/15], Loss: 1.9454, Accuracy: 9.95%\n",
      "Epoch [4/15], Loss: 1.9459, Accuracy: 10.11%\n",
      "Epoch [5/15], Loss: 1.9454, Accuracy: 9.94%\n",
      "Epoch [6/15], Loss: 1.9445, Accuracy: 9.93%\n",
      "Epoch [7/15], Loss: 1.9441, Accuracy: 9.93%\n",
      "Epoch [8/15], Loss: 1.9442, Accuracy: 10.00%\n",
      "Epoch [9/15], Loss: 1.9435, Accuracy: 10.00%\n",
      "Epoch [10/15], Loss: 1.9434, Accuracy: 10.00%\n",
      "Epoch [11/15], Loss: 1.9425, Accuracy: 10.00%\n",
      "Epoch [12/15], Loss: 1.9452, Accuracy: 10.00%\n",
      "Epoch [13/15], Loss: 1.9427, Accuracy: 10.00%\n",
      "Epoch [14/15], Loss: 1.9434, Accuracy: 10.00%\n",
      "Epoch [15/15], Loss: 1.9441, Accuracy: 10.00%\n"
     ]
    }
   ],
   "source": [
    "student = mobilenet_v2(weights=None).to(device)\n",
    "\n",
    "student.classifier[1] = nn.Linear(student.classifier[1].in_features, 10).to(device)\n",
    "\n",
    "adv_train_student(student, teacher, n_epochs=15, eps=8/255, loader=trainloader)\n"
   ]
  },
  {
   "cell_type": "markdown",
   "metadata": {
    "id": "bwVcIMu9ZF12"
   },
   "source": [
    "Now report the accuracy of the student on the test dataset."
   ]
  },
  {
   "cell_type": "code",
   "execution_count": null,
   "metadata": {
    "id": "6_tXDzGyZNCW"
   },
   "outputs": [
    {
     "name": "stdout",
     "output_type": "stream",
     "text": [
      "Student Clean Accuracy: 10.00%\n",
      "Student FGSM with ϵ=8/255 has Accuracy: 10.00%\n",
      "Student PGD  with ϵ=8/255 has Accuracy: 10.00%\n"
     ]
    }
   ],
   "source": [
    "def test_clean(model, dataloader=testloader):\n",
    "    model.eval() \n",
    "    correct = 0\n",
    "    total = 0\n",
    "    \n",
    "    with torch.no_grad():  \n",
    "        for inputs, labels in dataloader:\n",
    "            inputs, labels = inputs.to(device), labels.to(device)\n",
    "\n",
    "            outputs = model(inputs)\n",
    "\n",
    "            _, predicted = torch.max(outputs, 1)\n",
    "            total += labels.size(0)\n",
    "            correct += (predicted == labels).sum().item()\n",
    "\n",
    "    accuracy = 100 * correct / total\n",
    "    return accuracy\n",
    "\n",
    "clean_accuracy = test_clean(student)\n",
    "print(f'Student Clean Accuracy: {clean_accuracy:.2f}%')\n",
    "\n",
    "fgsm_acc = test_attack(student, epsilon=8/255, attack=attack_fgsm, loader=testloader)\n",
    "print(f'Student FGSM with ϵ=8/255 has Accuracy: {fgsm_acc:.2f}%')\n",
    "\n",
    "pgd_acc = test_attack(student, epsilon=8/255, attack=attack_pgd, loader=testloader)\n",
    "print(f'Student PGD  with ϵ=8/255 has Accuracy: {pgd_acc:.2f}%')\n"
   ]
  },
  {
   "cell_type": "code",
   "execution_count": null,
   "metadata": {},
   "outputs": [],
   "source": []
  },
  {
   "cell_type": "code",
   "execution_count": null,
   "metadata": {},
   "outputs": [],
   "source": []
  },
  {
   "cell_type": "code",
   "execution_count": null,
   "metadata": {},
   "outputs": [],
   "source": []
  },
  {
   "cell_type": "code",
   "execution_count": null,
   "metadata": {},
   "outputs": [],
   "source": []
  },
  {
   "cell_type": "code",
   "execution_count": null,
   "metadata": {},
   "outputs": [],
   "source": []
  },
  {
   "cell_type": "code",
   "execution_count": null,
   "metadata": {},
   "outputs": [],
   "source": []
  },
  {
   "cell_type": "code",
   "execution_count": null,
   "metadata": {},
   "outputs": [],
   "source": []
  },
  {
   "cell_type": "code",
   "execution_count": null,
   "metadata": {},
   "outputs": [],
   "source": []
  },
  {
   "cell_type": "code",
   "execution_count": null,
   "metadata": {},
   "outputs": [],
   "source": []
  },
  {
   "cell_type": "code",
   "execution_count": null,
   "metadata": {},
   "outputs": [],
   "source": []
  },
  {
   "cell_type": "code",
   "execution_count": null,
   "metadata": {},
   "outputs": [],
   "source": []
  },
  {
   "cell_type": "code",
   "execution_count": null,
   "metadata": {},
   "outputs": [],
   "source": []
  },
  {
   "cell_type": "code",
   "execution_count": null,
   "metadata": {},
   "outputs": [],
   "source": []
  },
  {
   "cell_type": "code",
   "execution_count": null,
   "metadata": {},
   "outputs": [],
   "source": []
  },
  {
   "cell_type": "code",
   "execution_count": null,
   "metadata": {},
   "outputs": [],
   "source": []
  },
  {
   "cell_type": "code",
   "execution_count": null,
   "metadata": {},
   "outputs": [],
   "source": []
  },
  {
   "cell_type": "code",
   "execution_count": null,
   "metadata": {},
   "outputs": [],
   "source": []
  },
  {
   "cell_type": "code",
   "execution_count": null,
   "metadata": {},
   "outputs": [],
   "source": []
  }
 ],
 "metadata": {
  "accelerator": "GPU",
  "colab": {
   "gpuType": "T4",
   "provenance": [],
   "toc_visible": true
  },
  "kernelspec": {
   "display_name": "spml",
   "language": "python",
   "name": "python3"
  },
  "language_info": {
   "codemirror_mode": {
    "name": "ipython",
    "version": 3
   },
   "file_extension": ".py",
   "mimetype": "text/x-python",
   "name": "python",
   "nbconvert_exporter": "python",
   "pygments_lexer": "ipython3",
   "version": "3.12.3"
  }
 },
 "nbformat": 4,
 "nbformat_minor": 0
}
